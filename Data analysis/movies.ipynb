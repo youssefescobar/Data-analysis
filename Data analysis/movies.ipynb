{
 "cells": [
  {
   "cell_type": "code",
   "execution_count": 1,
   "metadata": {},
   "outputs": [],
   "source": [
    "import numpy as np \n",
    "import pandas as pd \n",
    "import seaborn as sns\n",
    "import matplotlib.pyplot as plt"
   ]
  },
  {
   "cell_type": "markdown",
   "metadata": {},
   "source": [
    "Loading the data from CSV"
   ]
  },
  {
   "cell_type": "code",
   "execution_count": 2,
   "metadata": {},
   "outputs": [
    {
     "data": {
      "text/html": [
       "<div>\n",
       "<style scoped>\n",
       "    .dataframe tbody tr th:only-of-type {\n",
       "        vertical-align: middle;\n",
       "    }\n",
       "\n",
       "    .dataframe tbody tr th {\n",
       "        vertical-align: top;\n",
       "    }\n",
       "\n",
       "    .dataframe thead th {\n",
       "        text-align: right;\n",
       "    }\n",
       "</style>\n",
       "<table border=\"1\" class=\"dataframe\">\n",
       "  <thead>\n",
       "    <tr style=\"text-align: right;\">\n",
       "      <th></th>\n",
       "      <th>MOVIES</th>\n",
       "      <th>YEAR</th>\n",
       "      <th>GENRE</th>\n",
       "      <th>RATING</th>\n",
       "      <th>ONE-LINE</th>\n",
       "      <th>STARS</th>\n",
       "      <th>VOTES</th>\n",
       "      <th>RunTime</th>\n",
       "      <th>Gross</th>\n",
       "    </tr>\n",
       "  </thead>\n",
       "  <tbody>\n",
       "    <tr>\n",
       "      <th>0</th>\n",
       "      <td>Blood Red Sky</td>\n",
       "      <td>(2021)</td>\n",
       "      <td>\\nAction, Horror, Thriller</td>\n",
       "      <td>6.1</td>\n",
       "      <td>\\nA woman with a mysterious illness is forced ...</td>\n",
       "      <td>\\n    Director:\\nPeter Thorwarth\\n| \\n    Star...</td>\n",
       "      <td>21,062</td>\n",
       "      <td>121.0</td>\n",
       "      <td>NaN</td>\n",
       "    </tr>\n",
       "    <tr>\n",
       "      <th>1</th>\n",
       "      <td>Masters of the Universe: Revelation</td>\n",
       "      <td>(2021– )</td>\n",
       "      <td>\\nAnimation, Action, Adventure</td>\n",
       "      <td>5.0</td>\n",
       "      <td>\\nThe war for Eternia begins again in what may...</td>\n",
       "      <td>\\n            \\n    Stars:\\nChris Wood, \\nSara...</td>\n",
       "      <td>17,870</td>\n",
       "      <td>25.0</td>\n",
       "      <td>NaN</td>\n",
       "    </tr>\n",
       "    <tr>\n",
       "      <th>2</th>\n",
       "      <td>The Walking Dead</td>\n",
       "      <td>(2010–2022)</td>\n",
       "      <td>\\nDrama, Horror, Thriller</td>\n",
       "      <td>8.2</td>\n",
       "      <td>\\nSheriff Deputy Rick Grimes wakes up from a c...</td>\n",
       "      <td>\\n            \\n    Stars:\\nAndrew Lincoln, \\n...</td>\n",
       "      <td>885,805</td>\n",
       "      <td>44.0</td>\n",
       "      <td>NaN</td>\n",
       "    </tr>\n",
       "    <tr>\n",
       "      <th>3</th>\n",
       "      <td>Rick and Morty</td>\n",
       "      <td>(2013– )</td>\n",
       "      <td>\\nAnimation, Adventure, Comedy</td>\n",
       "      <td>9.2</td>\n",
       "      <td>\\nAn animated series that follows the exploits...</td>\n",
       "      <td>\\n            \\n    Stars:\\nJustin Roiland, \\n...</td>\n",
       "      <td>414,849</td>\n",
       "      <td>23.0</td>\n",
       "      <td>NaN</td>\n",
       "    </tr>\n",
       "    <tr>\n",
       "      <th>4</th>\n",
       "      <td>Army of Thieves</td>\n",
       "      <td>(2021)</td>\n",
       "      <td>\\nAction, Crime, Horror</td>\n",
       "      <td>NaN</td>\n",
       "      <td>\\nA prequel, set before the events of Army of ...</td>\n",
       "      <td>\\n    Director:\\nMatthias Schweighöfer\\n| \\n  ...</td>\n",
       "      <td>NaN</td>\n",
       "      <td>NaN</td>\n",
       "      <td>NaN</td>\n",
       "    </tr>\n",
       "    <tr>\n",
       "      <th>...</th>\n",
       "      <td>...</td>\n",
       "      <td>...</td>\n",
       "      <td>...</td>\n",
       "      <td>...</td>\n",
       "      <td>...</td>\n",
       "      <td>...</td>\n",
       "      <td>...</td>\n",
       "      <td>...</td>\n",
       "      <td>...</td>\n",
       "    </tr>\n",
       "    <tr>\n",
       "      <th>9994</th>\n",
       "      <td>The Imperfects</td>\n",
       "      <td>(2021– )</td>\n",
       "      <td>\\nAdventure, Drama, Fantasy</td>\n",
       "      <td>NaN</td>\n",
       "      <td>\\nAdd a Plot\\n</td>\n",
       "      <td>\\n            \\n    Stars:\\nMorgan Taylor Camp...</td>\n",
       "      <td>NaN</td>\n",
       "      <td>NaN</td>\n",
       "      <td>NaN</td>\n",
       "    </tr>\n",
       "    <tr>\n",
       "      <th>9995</th>\n",
       "      <td>Arcane</td>\n",
       "      <td>(2021– )</td>\n",
       "      <td>\\nAnimation, Action, Adventure</td>\n",
       "      <td>NaN</td>\n",
       "      <td>\\nAdd a Plot\\n</td>\n",
       "      <td>\\n</td>\n",
       "      <td>NaN</td>\n",
       "      <td>NaN</td>\n",
       "      <td>NaN</td>\n",
       "    </tr>\n",
       "    <tr>\n",
       "      <th>9996</th>\n",
       "      <td>Heart of Invictus</td>\n",
       "      <td>(2022– )</td>\n",
       "      <td>\\nDocumentary, Sport</td>\n",
       "      <td>NaN</td>\n",
       "      <td>\\nAdd a Plot\\n</td>\n",
       "      <td>\\n    Director:\\nOrlando von Einsiedel\\n| \\n  ...</td>\n",
       "      <td>NaN</td>\n",
       "      <td>NaN</td>\n",
       "      <td>NaN</td>\n",
       "    </tr>\n",
       "    <tr>\n",
       "      <th>9997</th>\n",
       "      <td>The Imperfects</td>\n",
       "      <td>(2021– )</td>\n",
       "      <td>\\nAdventure, Drama, Fantasy</td>\n",
       "      <td>NaN</td>\n",
       "      <td>\\nAdd a Plot\\n</td>\n",
       "      <td>\\n    Director:\\nJovanka Vuckovic\\n| \\n    Sta...</td>\n",
       "      <td>NaN</td>\n",
       "      <td>NaN</td>\n",
       "      <td>NaN</td>\n",
       "    </tr>\n",
       "    <tr>\n",
       "      <th>9998</th>\n",
       "      <td>The Imperfects</td>\n",
       "      <td>(2021– )</td>\n",
       "      <td>\\nAdventure, Drama, Fantasy</td>\n",
       "      <td>NaN</td>\n",
       "      <td>\\nAdd a Plot\\n</td>\n",
       "      <td>\\n    Director:\\nJovanka Vuckovic\\n| \\n    Sta...</td>\n",
       "      <td>NaN</td>\n",
       "      <td>NaN</td>\n",
       "      <td>NaN</td>\n",
       "    </tr>\n",
       "  </tbody>\n",
       "</table>\n",
       "<p>9999 rows × 9 columns</p>\n",
       "</div>"
      ],
      "text/plain": [
       "                                   MOVIES         YEAR  \\\n",
       "0                           Blood Red Sky       (2021)   \n",
       "1     Masters of the Universe: Revelation     (2021– )   \n",
       "2                        The Walking Dead  (2010–2022)   \n",
       "3                          Rick and Morty     (2013– )   \n",
       "4                         Army of Thieves       (2021)   \n",
       "...                                   ...          ...   \n",
       "9994                       The Imperfects     (2021– )   \n",
       "9995                               Arcane     (2021– )   \n",
       "9996                    Heart of Invictus     (2022– )   \n",
       "9997                       The Imperfects     (2021– )   \n",
       "9998                       The Imperfects     (2021– )   \n",
       "\n",
       "                                           GENRE  RATING  \\\n",
       "0         \\nAction, Horror, Thriller                 6.1   \n",
       "1     \\nAnimation, Action, Adventure                 5.0   \n",
       "2          \\nDrama, Horror, Thriller                 8.2   \n",
       "3     \\nAnimation, Adventure, Comedy                 9.2   \n",
       "4            \\nAction, Crime, Horror                 NaN   \n",
       "...                                          ...     ...   \n",
       "9994     \\nAdventure, Drama, Fantasy                 NaN   \n",
       "9995  \\nAnimation, Action, Adventure                 NaN   \n",
       "9996            \\nDocumentary, Sport                 NaN   \n",
       "9997     \\nAdventure, Drama, Fantasy                 NaN   \n",
       "9998     \\nAdventure, Drama, Fantasy                 NaN   \n",
       "\n",
       "                                               ONE-LINE  \\\n",
       "0     \\nA woman with a mysterious illness is forced ...   \n",
       "1     \\nThe war for Eternia begins again in what may...   \n",
       "2     \\nSheriff Deputy Rick Grimes wakes up from a c...   \n",
       "3     \\nAn animated series that follows the exploits...   \n",
       "4     \\nA prequel, set before the events of Army of ...   \n",
       "...                                                 ...   \n",
       "9994                                     \\nAdd a Plot\\n   \n",
       "9995                                     \\nAdd a Plot\\n   \n",
       "9996                                     \\nAdd a Plot\\n   \n",
       "9997                                     \\nAdd a Plot\\n   \n",
       "9998                                     \\nAdd a Plot\\n   \n",
       "\n",
       "                                                  STARS    VOTES  RunTime  \\\n",
       "0     \\n    Director:\\nPeter Thorwarth\\n| \\n    Star...   21,062    121.0   \n",
       "1     \\n            \\n    Stars:\\nChris Wood, \\nSara...   17,870     25.0   \n",
       "2     \\n            \\n    Stars:\\nAndrew Lincoln, \\n...  885,805     44.0   \n",
       "3     \\n            \\n    Stars:\\nJustin Roiland, \\n...  414,849     23.0   \n",
       "4     \\n    Director:\\nMatthias Schweighöfer\\n| \\n  ...      NaN      NaN   \n",
       "...                                                 ...      ...      ...   \n",
       "9994  \\n            \\n    Stars:\\nMorgan Taylor Camp...      NaN      NaN   \n",
       "9995                                                 \\n      NaN      NaN   \n",
       "9996  \\n    Director:\\nOrlando von Einsiedel\\n| \\n  ...      NaN      NaN   \n",
       "9997  \\n    Director:\\nJovanka Vuckovic\\n| \\n    Sta...      NaN      NaN   \n",
       "9998  \\n    Director:\\nJovanka Vuckovic\\n| \\n    Sta...      NaN      NaN   \n",
       "\n",
       "     Gross  \n",
       "0      NaN  \n",
       "1      NaN  \n",
       "2      NaN  \n",
       "3      NaN  \n",
       "4      NaN  \n",
       "...    ...  \n",
       "9994   NaN  \n",
       "9995   NaN  \n",
       "9996   NaN  \n",
       "9997   NaN  \n",
       "9998   NaN  \n",
       "\n",
       "[9999 rows x 9 columns]"
      ]
     },
     "execution_count": 2,
     "metadata": {},
     "output_type": "execute_result"
    }
   ],
   "source": [
    "df=pd.read_csv(r'.\\movies.csv')\n",
    "df"
   ]
  },
  {
   "cell_type": "markdown",
   "metadata": {},
   "source": [
    "Date exploration"
   ]
  },
  {
   "cell_type": "code",
   "execution_count": 3,
   "metadata": {},
   "outputs": [
    {
     "name": "stdout",
     "output_type": "stream",
     "text": [
      "<class 'pandas.core.frame.DataFrame'>\n",
      "RangeIndex: 9999 entries, 0 to 9998\n",
      "Data columns (total 9 columns):\n",
      " #   Column    Non-Null Count  Dtype  \n",
      "---  ------    --------------  -----  \n",
      " 0   MOVIES    9999 non-null   object \n",
      " 1   YEAR      9355 non-null   object \n",
      " 2   GENRE     9919 non-null   object \n",
      " 3   RATING    8179 non-null   float64\n",
      " 4   ONE-LINE  9999 non-null   object \n",
      " 5   STARS     9999 non-null   object \n",
      " 6   VOTES     8179 non-null   object \n",
      " 7   RunTime   7041 non-null   float64\n",
      " 8   Gross     460 non-null    object \n",
      "dtypes: float64(2), object(7)\n",
      "memory usage: 703.2+ KB\n"
     ]
    }
   ],
   "source": [
    "df.info()"
   ]
  },
  {
   "cell_type": "markdown",
   "metadata": {},
   "source": [
    "Data Cleaning\n"
   ]
  },
  {
   "cell_type": "code",
   "execution_count": 4,
   "metadata": {},
   "outputs": [
    {
     "data": {
      "text/plain": [
       "MOVIES         0\n",
       "YEAR         644\n",
       "GENRE         80\n",
       "RATING      1820\n",
       "ONE-LINE       0\n",
       "STARS          0\n",
       "VOTES       1820\n",
       "RunTime     2958\n",
       "Gross       9539\n",
       "dtype: int64"
      ]
     },
     "execution_count": 4,
     "metadata": {},
     "output_type": "execute_result"
    }
   ],
   "source": [
    "df.isnull().sum()"
   ]
  },
  {
   "cell_type": "code",
   "execution_count": 5,
   "metadata": {},
   "outputs": [
    {
     "data": {
      "text/plain": [
       "431"
      ]
     },
     "execution_count": 5,
     "metadata": {},
     "output_type": "execute_result"
    }
   ],
   "source": [
    "df.duplicated().sum()"
   ]
  },
  {
   "cell_type": "markdown",
   "metadata": {},
   "source": [
    "Removing dups"
   ]
  },
  {
   "cell_type": "code",
   "execution_count": 6,
   "metadata": {},
   "outputs": [],
   "source": [
    "df = df.drop_duplicates()"
   ]
  },
  {
   "cell_type": "markdown",
   "metadata": {},
   "source": [
    "Removing useless and heavily missing Cols"
   ]
  },
  {
   "cell_type": "code",
   "execution_count": 7,
   "metadata": {},
   "outputs": [
    {
     "name": "stderr",
     "output_type": "stream",
     "text": [
      "C:\\Users\\youss\\AppData\\Local\\Temp\\ipykernel_18740\\278912603.py:1: SettingWithCopyWarning: \n",
      "A value is trying to be set on a copy of a slice from a DataFrame\n",
      "\n",
      "See the caveats in the documentation: https://pandas.pydata.org/pandas-docs/stable/user_guide/indexing.html#returning-a-view-versus-a-copy\n",
      "  df.drop(columns='ONE-LINE', inplace=True)\n",
      "C:\\Users\\youss\\AppData\\Local\\Temp\\ipykernel_18740\\278912603.py:2: SettingWithCopyWarning: \n",
      "A value is trying to be set on a copy of a slice from a DataFrame\n",
      "\n",
      "See the caveats in the documentation: https://pandas.pydata.org/pandas-docs/stable/user_guide/indexing.html#returning-a-view-versus-a-copy\n",
      "  df.drop(columns='Gross', inplace=True)\n"
     ]
    }
   ],
   "source": [
    "df.drop(columns='ONE-LINE', inplace=True)\n",
    "df.drop(columns='Gross', inplace=True)"
   ]
  },
  {
   "cell_type": "markdown",
   "metadata": {},
   "source": [
    "Genre Col"
   ]
  },
  {
   "cell_type": "code",
   "execution_count": 8,
   "metadata": {},
   "outputs": [
    {
     "name": "stderr",
     "output_type": "stream",
     "text": [
      "C:\\Users\\youss\\AppData\\Local\\Temp\\ipykernel_18740\\568165779.py:1: SettingWithCopyWarning: \n",
      "A value is trying to be set on a copy of a slice from a DataFrame.\n",
      "Try using .loc[row_indexer,col_indexer] = value instead\n",
      "\n",
      "See the caveats in the documentation: https://pandas.pydata.org/pandas-docs/stable/user_guide/indexing.html#returning-a-view-versus-a-copy\n",
      "  df['GENRE'] = df['GENRE'].str.strip('\\n')\n",
      "C:\\Users\\youss\\AppData\\Local\\Temp\\ipykernel_18740\\568165779.py:2: SettingWithCopyWarning: \n",
      "A value is trying to be set on a copy of a slice from a DataFrame.\n",
      "Try using .loc[row_indexer,col_indexer] = value instead\n",
      "\n",
      "See the caveats in the documentation: https://pandas.pydata.org/pandas-docs/stable/user_guide/indexing.html#returning-a-view-versus-a-copy\n",
      "  df['GENRE'] = df['GENRE'].str.strip(' ')\n"
     ]
    },
    {
     "data": {
      "text/html": [
       "<div>\n",
       "<style scoped>\n",
       "    .dataframe tbody tr th:only-of-type {\n",
       "        vertical-align: middle;\n",
       "    }\n",
       "\n",
       "    .dataframe tbody tr th {\n",
       "        vertical-align: top;\n",
       "    }\n",
       "\n",
       "    .dataframe thead th {\n",
       "        text-align: right;\n",
       "    }\n",
       "</style>\n",
       "<table border=\"1\" class=\"dataframe\">\n",
       "  <thead>\n",
       "    <tr style=\"text-align: right;\">\n",
       "      <th></th>\n",
       "      <th>MOVIES</th>\n",
       "      <th>YEAR</th>\n",
       "      <th>GENRE</th>\n",
       "      <th>RATING</th>\n",
       "      <th>STARS</th>\n",
       "      <th>VOTES</th>\n",
       "      <th>RunTime</th>\n",
       "    </tr>\n",
       "  </thead>\n",
       "  <tbody>\n",
       "    <tr>\n",
       "      <th>0</th>\n",
       "      <td>Blood Red Sky</td>\n",
       "      <td>(2021)</td>\n",
       "      <td>Action, Horror, Thriller</td>\n",
       "      <td>6.1</td>\n",
       "      <td>\\n    Director:\\nPeter Thorwarth\\n| \\n    Star...</td>\n",
       "      <td>21,062</td>\n",
       "      <td>121.0</td>\n",
       "    </tr>\n",
       "    <tr>\n",
       "      <th>1</th>\n",
       "      <td>Masters of the Universe: Revelation</td>\n",
       "      <td>(2021– )</td>\n",
       "      <td>Animation, Action, Adventure</td>\n",
       "      <td>5.0</td>\n",
       "      <td>\\n            \\n    Stars:\\nChris Wood, \\nSara...</td>\n",
       "      <td>17,870</td>\n",
       "      <td>25.0</td>\n",
       "    </tr>\n",
       "    <tr>\n",
       "      <th>2</th>\n",
       "      <td>The Walking Dead</td>\n",
       "      <td>(2010–2022)</td>\n",
       "      <td>Drama, Horror, Thriller</td>\n",
       "      <td>8.2</td>\n",
       "      <td>\\n            \\n    Stars:\\nAndrew Lincoln, \\n...</td>\n",
       "      <td>885,805</td>\n",
       "      <td>44.0</td>\n",
       "    </tr>\n",
       "    <tr>\n",
       "      <th>3</th>\n",
       "      <td>Rick and Morty</td>\n",
       "      <td>(2013– )</td>\n",
       "      <td>Animation, Adventure, Comedy</td>\n",
       "      <td>9.2</td>\n",
       "      <td>\\n            \\n    Stars:\\nJustin Roiland, \\n...</td>\n",
       "      <td>414,849</td>\n",
       "      <td>23.0</td>\n",
       "    </tr>\n",
       "    <tr>\n",
       "      <th>4</th>\n",
       "      <td>Army of Thieves</td>\n",
       "      <td>(2021)</td>\n",
       "      <td>Action, Crime, Horror</td>\n",
       "      <td>NaN</td>\n",
       "      <td>\\n    Director:\\nMatthias Schweighöfer\\n| \\n  ...</td>\n",
       "      <td>NaN</td>\n",
       "      <td>NaN</td>\n",
       "    </tr>\n",
       "    <tr>\n",
       "      <th>...</th>\n",
       "      <td>...</td>\n",
       "      <td>...</td>\n",
       "      <td>...</td>\n",
       "      <td>...</td>\n",
       "      <td>...</td>\n",
       "      <td>...</td>\n",
       "      <td>...</td>\n",
       "    </tr>\n",
       "    <tr>\n",
       "      <th>9993</th>\n",
       "      <td>Totenfrau</td>\n",
       "      <td>(2022– )</td>\n",
       "      <td>Drama, Thriller</td>\n",
       "      <td>NaN</td>\n",
       "      <td>\\n    Director:\\nNicolai Rohde\\n| \\n    Stars:...</td>\n",
       "      <td>NaN</td>\n",
       "      <td>NaN</td>\n",
       "    </tr>\n",
       "    <tr>\n",
       "      <th>9995</th>\n",
       "      <td>Arcane</td>\n",
       "      <td>(2021– )</td>\n",
       "      <td>Animation, Action, Adventure</td>\n",
       "      <td>NaN</td>\n",
       "      <td>\\n</td>\n",
       "      <td>NaN</td>\n",
       "      <td>NaN</td>\n",
       "    </tr>\n",
       "    <tr>\n",
       "      <th>9996</th>\n",
       "      <td>Heart of Invictus</td>\n",
       "      <td>(2022– )</td>\n",
       "      <td>Documentary, Sport</td>\n",
       "      <td>NaN</td>\n",
       "      <td>\\n    Director:\\nOrlando von Einsiedel\\n| \\n  ...</td>\n",
       "      <td>NaN</td>\n",
       "      <td>NaN</td>\n",
       "    </tr>\n",
       "    <tr>\n",
       "      <th>9997</th>\n",
       "      <td>The Imperfects</td>\n",
       "      <td>(2021– )</td>\n",
       "      <td>Adventure, Drama, Fantasy</td>\n",
       "      <td>NaN</td>\n",
       "      <td>\\n    Director:\\nJovanka Vuckovic\\n| \\n    Sta...</td>\n",
       "      <td>NaN</td>\n",
       "      <td>NaN</td>\n",
       "    </tr>\n",
       "    <tr>\n",
       "      <th>9998</th>\n",
       "      <td>The Imperfects</td>\n",
       "      <td>(2021– )</td>\n",
       "      <td>Adventure, Drama, Fantasy</td>\n",
       "      <td>NaN</td>\n",
       "      <td>\\n    Director:\\nJovanka Vuckovic\\n| \\n    Sta...</td>\n",
       "      <td>NaN</td>\n",
       "      <td>NaN</td>\n",
       "    </tr>\n",
       "  </tbody>\n",
       "</table>\n",
       "<p>9568 rows × 7 columns</p>\n",
       "</div>"
      ],
      "text/plain": [
       "                                   MOVIES         YEAR  \\\n",
       "0                           Blood Red Sky       (2021)   \n",
       "1     Masters of the Universe: Revelation     (2021– )   \n",
       "2                        The Walking Dead  (2010–2022)   \n",
       "3                          Rick and Morty     (2013– )   \n",
       "4                         Army of Thieves       (2021)   \n",
       "...                                   ...          ...   \n",
       "9993                            Totenfrau     (2022– )   \n",
       "9995                               Arcane     (2021– )   \n",
       "9996                    Heart of Invictus     (2022– )   \n",
       "9997                       The Imperfects     (2021– )   \n",
       "9998                       The Imperfects     (2021– )   \n",
       "\n",
       "                             GENRE  RATING  \\\n",
       "0         Action, Horror, Thriller     6.1   \n",
       "1     Animation, Action, Adventure     5.0   \n",
       "2          Drama, Horror, Thriller     8.2   \n",
       "3     Animation, Adventure, Comedy     9.2   \n",
       "4            Action, Crime, Horror     NaN   \n",
       "...                            ...     ...   \n",
       "9993               Drama, Thriller     NaN   \n",
       "9995  Animation, Action, Adventure     NaN   \n",
       "9996            Documentary, Sport     NaN   \n",
       "9997     Adventure, Drama, Fantasy     NaN   \n",
       "9998     Adventure, Drama, Fantasy     NaN   \n",
       "\n",
       "                                                  STARS    VOTES  RunTime  \n",
       "0     \\n    Director:\\nPeter Thorwarth\\n| \\n    Star...   21,062    121.0  \n",
       "1     \\n            \\n    Stars:\\nChris Wood, \\nSara...   17,870     25.0  \n",
       "2     \\n            \\n    Stars:\\nAndrew Lincoln, \\n...  885,805     44.0  \n",
       "3     \\n            \\n    Stars:\\nJustin Roiland, \\n...  414,849     23.0  \n",
       "4     \\n    Director:\\nMatthias Schweighöfer\\n| \\n  ...      NaN      NaN  \n",
       "...                                                 ...      ...      ...  \n",
       "9993  \\n    Director:\\nNicolai Rohde\\n| \\n    Stars:...      NaN      NaN  \n",
       "9995                                                 \\n      NaN      NaN  \n",
       "9996  \\n    Director:\\nOrlando von Einsiedel\\n| \\n  ...      NaN      NaN  \n",
       "9997  \\n    Director:\\nJovanka Vuckovic\\n| \\n    Sta...      NaN      NaN  \n",
       "9998  \\n    Director:\\nJovanka Vuckovic\\n| \\n    Sta...      NaN      NaN  \n",
       "\n",
       "[9568 rows x 7 columns]"
      ]
     },
     "execution_count": 8,
     "metadata": {},
     "output_type": "execute_result"
    }
   ],
   "source": [
    "df['GENRE'] = df['GENRE'].str.strip('\\n')\n",
    "df['GENRE'] = df['GENRE'].str.strip(' ')\n",
    "df"
   ]
  },
  {
   "cell_type": "code",
   "execution_count": 9,
   "metadata": {},
   "outputs": [
    {
     "name": "stdout",
     "output_type": "stream",
     "text": [
      "<class 'pandas.core.frame.DataFrame'>\n",
      "Index: 9568 entries, 0 to 9998\n",
      "Data columns (total 7 columns):\n",
      " #   Column   Non-Null Count  Dtype  \n",
      "---  ------   --------------  -----  \n",
      " 0   MOVIES   9568 non-null   object \n",
      " 1   YEAR     9026 non-null   object \n",
      " 2   GENRE    9490 non-null   object \n",
      " 3   RATING   8168 non-null   float64\n",
      " 4   STARS    9568 non-null   object \n",
      " 5   VOTES    8168 non-null   object \n",
      " 6   RunTime  7008 non-null   float64\n",
      "dtypes: float64(2), object(5)\n",
      "memory usage: 598.0+ KB\n"
     ]
    }
   ],
   "source": [
    "df.info()"
   ]
  },
  {
   "cell_type": "markdown",
   "metadata": {},
   "source": [
    "Year Col"
   ]
  },
  {
   "cell_type": "code",
   "execution_count": 10,
   "metadata": {},
   "outputs": [
    {
     "name": "stderr",
     "output_type": "stream",
     "text": [
      "C:\\Users\\youss\\AppData\\Local\\Temp\\ipykernel_18740\\2149896777.py:1: SettingWithCopyWarning: \n",
      "A value is trying to be set on a copy of a slice from a DataFrame.\n",
      "Try using .loc[row_indexer,col_indexer] = value instead\n",
      "\n",
      "See the caveats in the documentation: https://pandas.pydata.org/pandas-docs/stable/user_guide/indexing.html#returning-a-view-versus-a-copy\n",
      "  df['YEAR'] = df['YEAR'].str.replace('– ','-')\n",
      "C:\\Users\\youss\\AppData\\Local\\Temp\\ipykernel_18740\\2149896777.py:2: SettingWithCopyWarning: \n",
      "A value is trying to be set on a copy of a slice from a DataFrame.\n",
      "Try using .loc[row_indexer,col_indexer] = value instead\n",
      "\n",
      "See the caveats in the documentation: https://pandas.pydata.org/pandas-docs/stable/user_guide/indexing.html#returning-a-view-versus-a-copy\n",
      "  df['YEAR'] =df['YEAR'].str.strip('()-')\n",
      "C:\\Users\\youss\\AppData\\Local\\Temp\\ipykernel_18740\\2149896777.py:3: SettingWithCopyWarning: \n",
      "A value is trying to be set on a copy of a slice from a DataFrame.\n",
      "Try using .loc[row_indexer,col_indexer] = value instead\n",
      "\n",
      "See the caveats in the documentation: https://pandas.pydata.org/pandas-docs/stable/user_guide/indexing.html#returning-a-view-versus-a-copy\n",
      "  df['YEAR'] = df['YEAR'].str.replace('–',' ')\n"
     ]
    },
    {
     "data": {
      "text/html": [
       "<div>\n",
       "<style scoped>\n",
       "    .dataframe tbody tr th:only-of-type {\n",
       "        vertical-align: middle;\n",
       "    }\n",
       "\n",
       "    .dataframe tbody tr th {\n",
       "        vertical-align: top;\n",
       "    }\n",
       "\n",
       "    .dataframe thead th {\n",
       "        text-align: right;\n",
       "    }\n",
       "</style>\n",
       "<table border=\"1\" class=\"dataframe\">\n",
       "  <thead>\n",
       "    <tr style=\"text-align: right;\">\n",
       "      <th></th>\n",
       "      <th>MOVIES</th>\n",
       "      <th>YEAR</th>\n",
       "      <th>GENRE</th>\n",
       "      <th>RATING</th>\n",
       "      <th>STARS</th>\n",
       "      <th>VOTES</th>\n",
       "      <th>RunTime</th>\n",
       "    </tr>\n",
       "  </thead>\n",
       "  <tbody>\n",
       "    <tr>\n",
       "      <th>0</th>\n",
       "      <td>Blood Red Sky</td>\n",
       "      <td>2021</td>\n",
       "      <td>Action, Horror, Thriller</td>\n",
       "      <td>6.1</td>\n",
       "      <td>\\n    Director:\\nPeter Thorwarth\\n| \\n    Star...</td>\n",
       "      <td>21,062</td>\n",
       "      <td>121.0</td>\n",
       "    </tr>\n",
       "    <tr>\n",
       "      <th>1</th>\n",
       "      <td>Masters of the Universe: Revelation</td>\n",
       "      <td>2021</td>\n",
       "      <td>Animation, Action, Adventure</td>\n",
       "      <td>5.0</td>\n",
       "      <td>\\n            \\n    Stars:\\nChris Wood, \\nSara...</td>\n",
       "      <td>17,870</td>\n",
       "      <td>25.0</td>\n",
       "    </tr>\n",
       "    <tr>\n",
       "      <th>2</th>\n",
       "      <td>The Walking Dead</td>\n",
       "      <td>2010 2022</td>\n",
       "      <td>Drama, Horror, Thriller</td>\n",
       "      <td>8.2</td>\n",
       "      <td>\\n            \\n    Stars:\\nAndrew Lincoln, \\n...</td>\n",
       "      <td>885,805</td>\n",
       "      <td>44.0</td>\n",
       "    </tr>\n",
       "    <tr>\n",
       "      <th>3</th>\n",
       "      <td>Rick and Morty</td>\n",
       "      <td>2013</td>\n",
       "      <td>Animation, Adventure, Comedy</td>\n",
       "      <td>9.2</td>\n",
       "      <td>\\n            \\n    Stars:\\nJustin Roiland, \\n...</td>\n",
       "      <td>414,849</td>\n",
       "      <td>23.0</td>\n",
       "    </tr>\n",
       "    <tr>\n",
       "      <th>4</th>\n",
       "      <td>Army of Thieves</td>\n",
       "      <td>2021</td>\n",
       "      <td>Action, Crime, Horror</td>\n",
       "      <td>NaN</td>\n",
       "      <td>\\n    Director:\\nMatthias Schweighöfer\\n| \\n  ...</td>\n",
       "      <td>NaN</td>\n",
       "      <td>NaN</td>\n",
       "    </tr>\n",
       "    <tr>\n",
       "      <th>...</th>\n",
       "      <td>...</td>\n",
       "      <td>...</td>\n",
       "      <td>...</td>\n",
       "      <td>...</td>\n",
       "      <td>...</td>\n",
       "      <td>...</td>\n",
       "      <td>...</td>\n",
       "    </tr>\n",
       "    <tr>\n",
       "      <th>9993</th>\n",
       "      <td>Totenfrau</td>\n",
       "      <td>2022</td>\n",
       "      <td>Drama, Thriller</td>\n",
       "      <td>NaN</td>\n",
       "      <td>\\n    Director:\\nNicolai Rohde\\n| \\n    Stars:...</td>\n",
       "      <td>NaN</td>\n",
       "      <td>NaN</td>\n",
       "    </tr>\n",
       "    <tr>\n",
       "      <th>9995</th>\n",
       "      <td>Arcane</td>\n",
       "      <td>2021</td>\n",
       "      <td>Animation, Action, Adventure</td>\n",
       "      <td>NaN</td>\n",
       "      <td>\\n</td>\n",
       "      <td>NaN</td>\n",
       "      <td>NaN</td>\n",
       "    </tr>\n",
       "    <tr>\n",
       "      <th>9996</th>\n",
       "      <td>Heart of Invictus</td>\n",
       "      <td>2022</td>\n",
       "      <td>Documentary, Sport</td>\n",
       "      <td>NaN</td>\n",
       "      <td>\\n    Director:\\nOrlando von Einsiedel\\n| \\n  ...</td>\n",
       "      <td>NaN</td>\n",
       "      <td>NaN</td>\n",
       "    </tr>\n",
       "    <tr>\n",
       "      <th>9997</th>\n",
       "      <td>The Imperfects</td>\n",
       "      <td>2021</td>\n",
       "      <td>Adventure, Drama, Fantasy</td>\n",
       "      <td>NaN</td>\n",
       "      <td>\\n    Director:\\nJovanka Vuckovic\\n| \\n    Sta...</td>\n",
       "      <td>NaN</td>\n",
       "      <td>NaN</td>\n",
       "    </tr>\n",
       "    <tr>\n",
       "      <th>9998</th>\n",
       "      <td>The Imperfects</td>\n",
       "      <td>2021</td>\n",
       "      <td>Adventure, Drama, Fantasy</td>\n",
       "      <td>NaN</td>\n",
       "      <td>\\n    Director:\\nJovanka Vuckovic\\n| \\n    Sta...</td>\n",
       "      <td>NaN</td>\n",
       "      <td>NaN</td>\n",
       "    </tr>\n",
       "  </tbody>\n",
       "</table>\n",
       "<p>9568 rows × 7 columns</p>\n",
       "</div>"
      ],
      "text/plain": [
       "                                   MOVIES       YEAR  \\\n",
       "0                           Blood Red Sky       2021   \n",
       "1     Masters of the Universe: Revelation       2021   \n",
       "2                        The Walking Dead  2010 2022   \n",
       "3                          Rick and Morty       2013   \n",
       "4                         Army of Thieves       2021   \n",
       "...                                   ...        ...   \n",
       "9993                            Totenfrau       2022   \n",
       "9995                               Arcane       2021   \n",
       "9996                    Heart of Invictus       2022   \n",
       "9997                       The Imperfects       2021   \n",
       "9998                       The Imperfects       2021   \n",
       "\n",
       "                             GENRE  RATING  \\\n",
       "0         Action, Horror, Thriller     6.1   \n",
       "1     Animation, Action, Adventure     5.0   \n",
       "2          Drama, Horror, Thriller     8.2   \n",
       "3     Animation, Adventure, Comedy     9.2   \n",
       "4            Action, Crime, Horror     NaN   \n",
       "...                            ...     ...   \n",
       "9993               Drama, Thriller     NaN   \n",
       "9995  Animation, Action, Adventure     NaN   \n",
       "9996            Documentary, Sport     NaN   \n",
       "9997     Adventure, Drama, Fantasy     NaN   \n",
       "9998     Adventure, Drama, Fantasy     NaN   \n",
       "\n",
       "                                                  STARS    VOTES  RunTime  \n",
       "0     \\n    Director:\\nPeter Thorwarth\\n| \\n    Star...   21,062    121.0  \n",
       "1     \\n            \\n    Stars:\\nChris Wood, \\nSara...   17,870     25.0  \n",
       "2     \\n            \\n    Stars:\\nAndrew Lincoln, \\n...  885,805     44.0  \n",
       "3     \\n            \\n    Stars:\\nJustin Roiland, \\n...  414,849     23.0  \n",
       "4     \\n    Director:\\nMatthias Schweighöfer\\n| \\n  ...      NaN      NaN  \n",
       "...                                                 ...      ...      ...  \n",
       "9993  \\n    Director:\\nNicolai Rohde\\n| \\n    Stars:...      NaN      NaN  \n",
       "9995                                                 \\n      NaN      NaN  \n",
       "9996  \\n    Director:\\nOrlando von Einsiedel\\n| \\n  ...      NaN      NaN  \n",
       "9997  \\n    Director:\\nJovanka Vuckovic\\n| \\n    Sta...      NaN      NaN  \n",
       "9998  \\n    Director:\\nJovanka Vuckovic\\n| \\n    Sta...      NaN      NaN  \n",
       "\n",
       "[9568 rows x 7 columns]"
      ]
     },
     "execution_count": 10,
     "metadata": {},
     "output_type": "execute_result"
    }
   ],
   "source": [
    "df['YEAR'] = df['YEAR'].str.replace('– ','-')\n",
    "df['YEAR'] =df['YEAR'].str.strip('()-')\n",
    "df['YEAR'] = df['YEAR'].str.replace('–',' ')\n",
    "df"
   ]
  },
  {
   "cell_type": "code",
   "execution_count": 11,
   "metadata": {},
   "outputs": [],
   "source": [
    "for index, row in df.iterrows():\n",
    "    if isinstance(row['YEAR'], str):\n",
    "        if ' ' in row['YEAR']:\n",
    "            df.at[index, 'YEAR'] = row['YEAR'].split()[0]\n",
    "\n",
    "    \n",
    "     "
   ]
  },
  {
   "cell_type": "code",
   "execution_count": 12,
   "metadata": {},
   "outputs": [
    {
     "name": "stderr",
     "output_type": "stream",
     "text": [
      "C:\\Users\\youss\\AppData\\Local\\Temp\\ipykernel_18740\\1649456212.py:1: SettingWithCopyWarning: \n",
      "A value is trying to be set on a copy of a slice from a DataFrame.\n",
      "Try using .loc[row_indexer,col_indexer] = value instead\n",
      "\n",
      "See the caveats in the documentation: https://pandas.pydata.org/pandas-docs/stable/user_guide/indexing.html#returning-a-view-versus-a-copy\n",
      "  df['YEAR'] = pd.to_numeric(df['YEAR'], errors='coerce').astype('Int64')\n"
     ]
    },
    {
     "data": {
      "text/html": [
       "<div>\n",
       "<style scoped>\n",
       "    .dataframe tbody tr th:only-of-type {\n",
       "        vertical-align: middle;\n",
       "    }\n",
       "\n",
       "    .dataframe tbody tr th {\n",
       "        vertical-align: top;\n",
       "    }\n",
       "\n",
       "    .dataframe thead th {\n",
       "        text-align: right;\n",
       "    }\n",
       "</style>\n",
       "<table border=\"1\" class=\"dataframe\">\n",
       "  <thead>\n",
       "    <tr style=\"text-align: right;\">\n",
       "      <th></th>\n",
       "      <th>MOVIES</th>\n",
       "      <th>YEAR</th>\n",
       "      <th>GENRE</th>\n",
       "      <th>RATING</th>\n",
       "      <th>STARS</th>\n",
       "      <th>VOTES</th>\n",
       "      <th>RunTime</th>\n",
       "    </tr>\n",
       "  </thead>\n",
       "  <tbody>\n",
       "    <tr>\n",
       "      <th>0</th>\n",
       "      <td>Blood Red Sky</td>\n",
       "      <td>2021</td>\n",
       "      <td>Action, Horror, Thriller</td>\n",
       "      <td>6.1</td>\n",
       "      <td>\\n    Director:\\nPeter Thorwarth\\n| \\n    Star...</td>\n",
       "      <td>21,062</td>\n",
       "      <td>121.0</td>\n",
       "    </tr>\n",
       "    <tr>\n",
       "      <th>1</th>\n",
       "      <td>Masters of the Universe: Revelation</td>\n",
       "      <td>2021</td>\n",
       "      <td>Animation, Action, Adventure</td>\n",
       "      <td>5.0</td>\n",
       "      <td>\\n            \\n    Stars:\\nChris Wood, \\nSara...</td>\n",
       "      <td>17,870</td>\n",
       "      <td>25.0</td>\n",
       "    </tr>\n",
       "    <tr>\n",
       "      <th>2</th>\n",
       "      <td>The Walking Dead</td>\n",
       "      <td>2010</td>\n",
       "      <td>Drama, Horror, Thriller</td>\n",
       "      <td>8.2</td>\n",
       "      <td>\\n            \\n    Stars:\\nAndrew Lincoln, \\n...</td>\n",
       "      <td>885,805</td>\n",
       "      <td>44.0</td>\n",
       "    </tr>\n",
       "    <tr>\n",
       "      <th>3</th>\n",
       "      <td>Rick and Morty</td>\n",
       "      <td>2013</td>\n",
       "      <td>Animation, Adventure, Comedy</td>\n",
       "      <td>9.2</td>\n",
       "      <td>\\n            \\n    Stars:\\nJustin Roiland, \\n...</td>\n",
       "      <td>414,849</td>\n",
       "      <td>23.0</td>\n",
       "    </tr>\n",
       "    <tr>\n",
       "      <th>4</th>\n",
       "      <td>Army of Thieves</td>\n",
       "      <td>2021</td>\n",
       "      <td>Action, Crime, Horror</td>\n",
       "      <td>NaN</td>\n",
       "      <td>\\n    Director:\\nMatthias Schweighöfer\\n| \\n  ...</td>\n",
       "      <td>NaN</td>\n",
       "      <td>NaN</td>\n",
       "    </tr>\n",
       "    <tr>\n",
       "      <th>...</th>\n",
       "      <td>...</td>\n",
       "      <td>...</td>\n",
       "      <td>...</td>\n",
       "      <td>...</td>\n",
       "      <td>...</td>\n",
       "      <td>...</td>\n",
       "      <td>...</td>\n",
       "    </tr>\n",
       "    <tr>\n",
       "      <th>9993</th>\n",
       "      <td>Totenfrau</td>\n",
       "      <td>2022</td>\n",
       "      <td>Drama, Thriller</td>\n",
       "      <td>NaN</td>\n",
       "      <td>\\n    Director:\\nNicolai Rohde\\n| \\n    Stars:...</td>\n",
       "      <td>NaN</td>\n",
       "      <td>NaN</td>\n",
       "    </tr>\n",
       "    <tr>\n",
       "      <th>9995</th>\n",
       "      <td>Arcane</td>\n",
       "      <td>2021</td>\n",
       "      <td>Animation, Action, Adventure</td>\n",
       "      <td>NaN</td>\n",
       "      <td>\\n</td>\n",
       "      <td>NaN</td>\n",
       "      <td>NaN</td>\n",
       "    </tr>\n",
       "    <tr>\n",
       "      <th>9996</th>\n",
       "      <td>Heart of Invictus</td>\n",
       "      <td>2022</td>\n",
       "      <td>Documentary, Sport</td>\n",
       "      <td>NaN</td>\n",
       "      <td>\\n    Director:\\nOrlando von Einsiedel\\n| \\n  ...</td>\n",
       "      <td>NaN</td>\n",
       "      <td>NaN</td>\n",
       "    </tr>\n",
       "    <tr>\n",
       "      <th>9997</th>\n",
       "      <td>The Imperfects</td>\n",
       "      <td>2021</td>\n",
       "      <td>Adventure, Drama, Fantasy</td>\n",
       "      <td>NaN</td>\n",
       "      <td>\\n    Director:\\nJovanka Vuckovic\\n| \\n    Sta...</td>\n",
       "      <td>NaN</td>\n",
       "      <td>NaN</td>\n",
       "    </tr>\n",
       "    <tr>\n",
       "      <th>9998</th>\n",
       "      <td>The Imperfects</td>\n",
       "      <td>2021</td>\n",
       "      <td>Adventure, Drama, Fantasy</td>\n",
       "      <td>NaN</td>\n",
       "      <td>\\n    Director:\\nJovanka Vuckovic\\n| \\n    Sta...</td>\n",
       "      <td>NaN</td>\n",
       "      <td>NaN</td>\n",
       "    </tr>\n",
       "  </tbody>\n",
       "</table>\n",
       "<p>9568 rows × 7 columns</p>\n",
       "</div>"
      ],
      "text/plain": [
       "                                   MOVIES  YEAR                         GENRE  \\\n",
       "0                           Blood Red Sky  2021      Action, Horror, Thriller   \n",
       "1     Masters of the Universe: Revelation  2021  Animation, Action, Adventure   \n",
       "2                        The Walking Dead  2010       Drama, Horror, Thriller   \n",
       "3                          Rick and Morty  2013  Animation, Adventure, Comedy   \n",
       "4                         Army of Thieves  2021         Action, Crime, Horror   \n",
       "...                                   ...   ...                           ...   \n",
       "9993                            Totenfrau  2022               Drama, Thriller   \n",
       "9995                               Arcane  2021  Animation, Action, Adventure   \n",
       "9996                    Heart of Invictus  2022            Documentary, Sport   \n",
       "9997                       The Imperfects  2021     Adventure, Drama, Fantasy   \n",
       "9998                       The Imperfects  2021     Adventure, Drama, Fantasy   \n",
       "\n",
       "      RATING                                              STARS    VOTES  \\\n",
       "0        6.1  \\n    Director:\\nPeter Thorwarth\\n| \\n    Star...   21,062   \n",
       "1        5.0  \\n            \\n    Stars:\\nChris Wood, \\nSara...   17,870   \n",
       "2        8.2  \\n            \\n    Stars:\\nAndrew Lincoln, \\n...  885,805   \n",
       "3        9.2  \\n            \\n    Stars:\\nJustin Roiland, \\n...  414,849   \n",
       "4        NaN  \\n    Director:\\nMatthias Schweighöfer\\n| \\n  ...      NaN   \n",
       "...      ...                                                ...      ...   \n",
       "9993     NaN  \\n    Director:\\nNicolai Rohde\\n| \\n    Stars:...      NaN   \n",
       "9995     NaN                                                 \\n      NaN   \n",
       "9996     NaN  \\n    Director:\\nOrlando von Einsiedel\\n| \\n  ...      NaN   \n",
       "9997     NaN  \\n    Director:\\nJovanka Vuckovic\\n| \\n    Sta...      NaN   \n",
       "9998     NaN  \\n    Director:\\nJovanka Vuckovic\\n| \\n    Sta...      NaN   \n",
       "\n",
       "      RunTime  \n",
       "0       121.0  \n",
       "1        25.0  \n",
       "2        44.0  \n",
       "3        23.0  \n",
       "4         NaN  \n",
       "...       ...  \n",
       "9993      NaN  \n",
       "9995      NaN  \n",
       "9996      NaN  \n",
       "9997      NaN  \n",
       "9998      NaN  \n",
       "\n",
       "[9568 rows x 7 columns]"
      ]
     },
     "execution_count": 12,
     "metadata": {},
     "output_type": "execute_result"
    }
   ],
   "source": [
    "\n",
    "df['YEAR'] = pd.to_numeric(df['YEAR'], errors='coerce').astype('Int64')\n",
    "df"
   ]
  },
  {
   "cell_type": "code",
   "execution_count": 13,
   "metadata": {},
   "outputs": [
    {
     "name": "stdout",
     "output_type": "stream",
     "text": [
      "<class 'pandas.core.frame.DataFrame'>\n",
      "Index: 9568 entries, 0 to 9998\n",
      "Data columns (total 7 columns):\n",
      " #   Column   Non-Null Count  Dtype  \n",
      "---  ------   --------------  -----  \n",
      " 0   MOVIES   9568 non-null   object \n",
      " 1   YEAR     8652 non-null   Int64  \n",
      " 2   GENRE    9490 non-null   object \n",
      " 3   RATING   8168 non-null   float64\n",
      " 4   STARS    9568 non-null   object \n",
      " 5   VOTES    8168 non-null   object \n",
      " 6   RunTime  7008 non-null   float64\n",
      "dtypes: Int64(1), float64(2), object(4)\n",
      "memory usage: 865.4+ KB\n"
     ]
    }
   ],
   "source": [
    "df.info()"
   ]
  },
  {
   "cell_type": "code",
   "execution_count": 14,
   "metadata": {},
   "outputs": [
    {
     "name": "stderr",
     "output_type": "stream",
     "text": [
      "C:\\Users\\youss\\AppData\\Local\\Temp\\ipykernel_18740\\3982070551.py:1: SettingWithCopyWarning: \n",
      "A value is trying to be set on a copy of a slice from a DataFrame\n",
      "\n",
      "See the caveats in the documentation: https://pandas.pydata.org/pandas-docs/stable/user_guide/indexing.html#returning-a-view-versus-a-copy\n",
      "  df.dropna(subset=['YEAR'], inplace=True)\n"
     ]
    }
   ],
   "source": [
    "df.dropna(subset=['YEAR'], inplace=True)"
   ]
  },
  {
   "cell_type": "code",
   "execution_count": 15,
   "metadata": {},
   "outputs": [
    {
     "data": {
      "text/plain": [
       "MOVIES        0\n",
       "YEAR          0\n",
       "GENRE        21\n",
       "RATING      752\n",
       "STARS         0\n",
       "VOTES       752\n",
       "RunTime    1923\n",
       "dtype: int64"
      ]
     },
     "execution_count": 15,
     "metadata": {},
     "output_type": "execute_result"
    }
   ],
   "source": [
    "df.isnull().sum()"
   ]
  },
  {
   "cell_type": "code",
   "execution_count": 16,
   "metadata": {},
   "outputs": [
    {
     "name": "stderr",
     "output_type": "stream",
     "text": [
      "C:\\Users\\youss\\AppData\\Local\\Temp\\ipykernel_18740\\3589815845.py:1: SettingWithCopyWarning: \n",
      "A value is trying to be set on a copy of a slice from a DataFrame\n",
      "\n",
      "See the caveats in the documentation: https://pandas.pydata.org/pandas-docs/stable/user_guide/indexing.html#returning-a-view-versus-a-copy\n",
      "  df.dropna(subset=['MOVIES'], inplace=True)\n"
     ]
    }
   ],
   "source": [
    "df.dropna(subset=['MOVIES'], inplace=True)"
   ]
  },
  {
   "cell_type": "code",
   "execution_count": 17,
   "metadata": {},
   "outputs": [
    {
     "data": {
      "text/html": [
       "<div>\n",
       "<style scoped>\n",
       "    .dataframe tbody tr th:only-of-type {\n",
       "        vertical-align: middle;\n",
       "    }\n",
       "\n",
       "    .dataframe tbody tr th {\n",
       "        vertical-align: top;\n",
       "    }\n",
       "\n",
       "    .dataframe thead th {\n",
       "        text-align: right;\n",
       "    }\n",
       "</style>\n",
       "<table border=\"1\" class=\"dataframe\">\n",
       "  <thead>\n",
       "    <tr style=\"text-align: right;\">\n",
       "      <th></th>\n",
       "      <th>MOVIES</th>\n",
       "      <th>YEAR</th>\n",
       "      <th>GENRE</th>\n",
       "      <th>RATING</th>\n",
       "      <th>STARS</th>\n",
       "      <th>VOTES</th>\n",
       "      <th>RunTime</th>\n",
       "    </tr>\n",
       "  </thead>\n",
       "  <tbody>\n",
       "    <tr>\n",
       "      <th>0</th>\n",
       "      <td>Blood Red Sky</td>\n",
       "      <td>2021</td>\n",
       "      <td>Action, Horror, Thriller</td>\n",
       "      <td>6.1</td>\n",
       "      <td>\\n    Director:\\nPeter Thorwarth\\n| \\n    Star...</td>\n",
       "      <td>21,062</td>\n",
       "      <td>121.0</td>\n",
       "    </tr>\n",
       "    <tr>\n",
       "      <th>1</th>\n",
       "      <td>Masters of the Universe: Revelation</td>\n",
       "      <td>2021</td>\n",
       "      <td>Animation, Action, Adventure</td>\n",
       "      <td>5.0</td>\n",
       "      <td>\\n            \\n    Stars:\\nChris Wood, \\nSara...</td>\n",
       "      <td>17,870</td>\n",
       "      <td>25.0</td>\n",
       "    </tr>\n",
       "    <tr>\n",
       "      <th>2</th>\n",
       "      <td>The Walking Dead</td>\n",
       "      <td>2010</td>\n",
       "      <td>Drama, Horror, Thriller</td>\n",
       "      <td>8.2</td>\n",
       "      <td>\\n            \\n    Stars:\\nAndrew Lincoln, \\n...</td>\n",
       "      <td>885,805</td>\n",
       "      <td>44.0</td>\n",
       "    </tr>\n",
       "    <tr>\n",
       "      <th>3</th>\n",
       "      <td>Rick and Morty</td>\n",
       "      <td>2013</td>\n",
       "      <td>Animation, Adventure, Comedy</td>\n",
       "      <td>9.2</td>\n",
       "      <td>\\n            \\n    Stars:\\nJustin Roiland, \\n...</td>\n",
       "      <td>414,849</td>\n",
       "      <td>23.0</td>\n",
       "    </tr>\n",
       "    <tr>\n",
       "      <th>4</th>\n",
       "      <td>Army of Thieves</td>\n",
       "      <td>2021</td>\n",
       "      <td>Action, Crime, Horror</td>\n",
       "      <td>NaN</td>\n",
       "      <td>\\n    Director:\\nMatthias Schweighöfer\\n| \\n  ...</td>\n",
       "      <td>NaN</td>\n",
       "      <td>NaN</td>\n",
       "    </tr>\n",
       "    <tr>\n",
       "      <th>...</th>\n",
       "      <td>...</td>\n",
       "      <td>...</td>\n",
       "      <td>...</td>\n",
       "      <td>...</td>\n",
       "      <td>...</td>\n",
       "      <td>...</td>\n",
       "      <td>...</td>\n",
       "    </tr>\n",
       "    <tr>\n",
       "      <th>9993</th>\n",
       "      <td>Totenfrau</td>\n",
       "      <td>2022</td>\n",
       "      <td>Drama, Thriller</td>\n",
       "      <td>NaN</td>\n",
       "      <td>\\n    Director:\\nNicolai Rohde\\n| \\n    Stars:...</td>\n",
       "      <td>NaN</td>\n",
       "      <td>NaN</td>\n",
       "    </tr>\n",
       "    <tr>\n",
       "      <th>9995</th>\n",
       "      <td>Arcane</td>\n",
       "      <td>2021</td>\n",
       "      <td>Animation, Action, Adventure</td>\n",
       "      <td>NaN</td>\n",
       "      <td>\\n</td>\n",
       "      <td>NaN</td>\n",
       "      <td>NaN</td>\n",
       "    </tr>\n",
       "    <tr>\n",
       "      <th>9996</th>\n",
       "      <td>Heart of Invictus</td>\n",
       "      <td>2022</td>\n",
       "      <td>Documentary, Sport</td>\n",
       "      <td>NaN</td>\n",
       "      <td>\\n    Director:\\nOrlando von Einsiedel\\n| \\n  ...</td>\n",
       "      <td>NaN</td>\n",
       "      <td>NaN</td>\n",
       "    </tr>\n",
       "    <tr>\n",
       "      <th>9997</th>\n",
       "      <td>The Imperfects</td>\n",
       "      <td>2021</td>\n",
       "      <td>Adventure, Drama, Fantasy</td>\n",
       "      <td>NaN</td>\n",
       "      <td>\\n    Director:\\nJovanka Vuckovic\\n| \\n    Sta...</td>\n",
       "      <td>NaN</td>\n",
       "      <td>NaN</td>\n",
       "    </tr>\n",
       "    <tr>\n",
       "      <th>9998</th>\n",
       "      <td>The Imperfects</td>\n",
       "      <td>2021</td>\n",
       "      <td>Adventure, Drama, Fantasy</td>\n",
       "      <td>NaN</td>\n",
       "      <td>\\n    Director:\\nJovanka Vuckovic\\n| \\n    Sta...</td>\n",
       "      <td>NaN</td>\n",
       "      <td>NaN</td>\n",
       "    </tr>\n",
       "  </tbody>\n",
       "</table>\n",
       "<p>8652 rows × 7 columns</p>\n",
       "</div>"
      ],
      "text/plain": [
       "                                   MOVIES  YEAR                         GENRE  \\\n",
       "0                           Blood Red Sky  2021      Action, Horror, Thriller   \n",
       "1     Masters of the Universe: Revelation  2021  Animation, Action, Adventure   \n",
       "2                        The Walking Dead  2010       Drama, Horror, Thriller   \n",
       "3                          Rick and Morty  2013  Animation, Adventure, Comedy   \n",
       "4                         Army of Thieves  2021         Action, Crime, Horror   \n",
       "...                                   ...   ...                           ...   \n",
       "9993                            Totenfrau  2022               Drama, Thriller   \n",
       "9995                               Arcane  2021  Animation, Action, Adventure   \n",
       "9996                    Heart of Invictus  2022            Documentary, Sport   \n",
       "9997                       The Imperfects  2021     Adventure, Drama, Fantasy   \n",
       "9998                       The Imperfects  2021     Adventure, Drama, Fantasy   \n",
       "\n",
       "      RATING                                              STARS    VOTES  \\\n",
       "0        6.1  \\n    Director:\\nPeter Thorwarth\\n| \\n    Star...   21,062   \n",
       "1        5.0  \\n            \\n    Stars:\\nChris Wood, \\nSara...   17,870   \n",
       "2        8.2  \\n            \\n    Stars:\\nAndrew Lincoln, \\n...  885,805   \n",
       "3        9.2  \\n            \\n    Stars:\\nJustin Roiland, \\n...  414,849   \n",
       "4        NaN  \\n    Director:\\nMatthias Schweighöfer\\n| \\n  ...      NaN   \n",
       "...      ...                                                ...      ...   \n",
       "9993     NaN  \\n    Director:\\nNicolai Rohde\\n| \\n    Stars:...      NaN   \n",
       "9995     NaN                                                 \\n      NaN   \n",
       "9996     NaN  \\n    Director:\\nOrlando von Einsiedel\\n| \\n  ...      NaN   \n",
       "9997     NaN  \\n    Director:\\nJovanka Vuckovic\\n| \\n    Sta...      NaN   \n",
       "9998     NaN  \\n    Director:\\nJovanka Vuckovic\\n| \\n    Sta...      NaN   \n",
       "\n",
       "      RunTime  \n",
       "0       121.0  \n",
       "1        25.0  \n",
       "2        44.0  \n",
       "3        23.0  \n",
       "4         NaN  \n",
       "...       ...  \n",
       "9993      NaN  \n",
       "9995      NaN  \n",
       "9996      NaN  \n",
       "9997      NaN  \n",
       "9998      NaN  \n",
       "\n",
       "[8652 rows x 7 columns]"
      ]
     },
     "execution_count": 17,
     "metadata": {},
     "output_type": "execute_result"
    }
   ],
   "source": [
    "df.isnull().sum()\n",
    "df"
   ]
  },
  {
   "cell_type": "markdown",
   "metadata": {},
   "source": [
    "Genre \n"
   ]
  },
  {
   "cell_type": "code",
   "execution_count": 18,
   "metadata": {},
   "outputs": [
    {
     "name": "stderr",
     "output_type": "stream",
     "text": [
      "C:\\Users\\youss\\AppData\\Local\\Temp\\ipykernel_18740\\351706202.py:1: SettingWithCopyWarning: \n",
      "A value is trying to be set on a copy of a slice from a DataFrame\n",
      "\n",
      "See the caveats in the documentation: https://pandas.pydata.org/pandas-docs/stable/user_guide/indexing.html#returning-a-view-versus-a-copy\n",
      "  df.dropna(subset=['GENRE'], inplace=True)\n"
     ]
    }
   ],
   "source": [
    "df.dropna(subset=['GENRE'], inplace=True)"
   ]
  },
  {
   "cell_type": "code",
   "execution_count": 19,
   "metadata": {},
   "outputs": [
    {
     "data": {
      "text/plain": [
       "MOVIES        0\n",
       "YEAR          0\n",
       "GENRE         0\n",
       "RATING      742\n",
       "STARS         0\n",
       "VOTES       742\n",
       "RunTime    1910\n",
       "dtype: int64"
      ]
     },
     "execution_count": 19,
     "metadata": {},
     "output_type": "execute_result"
    }
   ],
   "source": [
    "df.isnull().sum()"
   ]
  },
  {
   "cell_type": "markdown",
   "metadata": {},
   "source": [
    "Rating"
   ]
  },
  {
   "cell_type": "code",
   "execution_count": 20,
   "metadata": {},
   "outputs": [
    {
     "name": "stdout",
     "output_type": "stream",
     "text": [
      "<class 'pandas.core.frame.DataFrame'>\n",
      "Index: 8631 entries, 0 to 9998\n",
      "Data columns (total 7 columns):\n",
      " #   Column   Non-Null Count  Dtype  \n",
      "---  ------   --------------  -----  \n",
      " 0   MOVIES   8631 non-null   object \n",
      " 1   YEAR     8631 non-null   Int64  \n",
      " 2   GENRE    8631 non-null   object \n",
      " 3   RATING   7889 non-null   float64\n",
      " 4   STARS    8631 non-null   object \n",
      " 5   VOTES    7889 non-null   object \n",
      " 6   RunTime  6721 non-null   float64\n",
      "dtypes: Int64(1), float64(2), object(4)\n",
      "memory usage: 547.9+ KB\n"
     ]
    }
   ],
   "source": [
    "df.info()"
   ]
  },
  {
   "cell_type": "code",
   "execution_count": 21,
   "metadata": {},
   "outputs": [
    {
     "data": {
      "text/plain": [
       "array([6.1, 5. , 8.2, 9.2, nan, 7.6, 6.8, 8.6, 7.9, 7.4, 6. , 8.1, 6.2,\n",
       "       5.4, 8. , 7.5, 9.4, 8.3, 8.7, 8.9, 8.8, 8.5, 8.4, 6.7, 7.7, 9. ,\n",
       "       5.8, 3.3, 7.8, 5.7, 6.6, 6.9, 6.5, 7.1, 5.6, 7.3, 9.1, 7.2, 9.3,\n",
       "       7. , 6.3, 3.7, 5.5, 4.6, 5.3, 4.7, 5.9, 5.1, 6.4, 4.8, 4.9, 2.7,\n",
       "       4.4, 4.5, 4.2, 3.8, 5.2, 2.8, 3.5, 4.3, 3.2, 1.1, 3.9, 4. , 3.4,\n",
       "       2.6, 3.6, 2.5, 2.2, 2.9, 4.1, 3.1, 2.1, 3. , 2. , 2.3, 2.4, 1.8,\n",
       "       9.6, 9.5, 9.7, 9.9, 9.8])"
      ]
     },
     "execution_count": 21,
     "metadata": {},
     "output_type": "execute_result"
    }
   ],
   "source": [
    "df['RATING'].unique()"
   ]
  },
  {
   "cell_type": "code",
   "execution_count": 22,
   "metadata": {},
   "outputs": [
    {
     "name": "stderr",
     "output_type": "stream",
     "text": [
      "C:\\Users\\youss\\AppData\\Local\\Temp\\ipykernel_18740\\304953693.py:9: FutureWarning: A value is trying to be set on a copy of a DataFrame or Series through chained assignment using an inplace method.\n",
      "The behavior will change in pandas 3.0. This inplace method will never work because the intermediate object on which we are setting values always behaves as a copy.\n",
      "\n",
      "For example, when doing 'df[col].method(value, inplace=True)', try using 'df.method({col: value}, inplace=True)' or df[col] = df[col].method(value) instead, to perform the operation inplace on the original object.\n",
      "\n",
      "\n",
      "  df['RATING'].fillna(avg, inplace=True)\n",
      "C:\\Users\\youss\\AppData\\Local\\Temp\\ipykernel_18740\\304953693.py:9: SettingWithCopyWarning: \n",
      "A value is trying to be set on a copy of a slice from a DataFrame\n",
      "\n",
      "See the caveats in the documentation: https://pandas.pydata.org/pandas-docs/stable/user_guide/indexing.html#returning-a-view-versus-a-copy\n",
      "  df['RATING'].fillna(avg, inplace=True)\n",
      "C:\\Users\\youss\\AppData\\Local\\Temp\\ipykernel_18740\\304953693.py:10: SettingWithCopyWarning: \n",
      "A value is trying to be set on a copy of a slice from a DataFrame.\n",
      "Try using .loc[row_indexer,col_indexer] = value instead\n",
      "\n",
      "See the caveats in the documentation: https://pandas.pydata.org/pandas-docs/stable/user_guide/indexing.html#returning-a-view-versus-a-copy\n",
      "  df['RATING'] = df['RATING'].apply(rating_fix)\n",
      "C:\\Users\\youss\\AppData\\Local\\Temp\\ipykernel_18740\\304953693.py:13: SettingWithCopyWarning: \n",
      "A value is trying to be set on a copy of a slice from a DataFrame.\n",
      "Try using .loc[row_indexer,col_indexer] = value instead\n",
      "\n",
      "See the caveats in the documentation: https://pandas.pydata.org/pandas-docs/stable/user_guide/indexing.html#returning-a-view-versus-a-copy\n",
      "  df['RATING'] = clean_rating(df)['RATING']\n"
     ]
    }
   ],
   "source": [
    "def rating_fix(rating):\n",
    "    if '.' in str(rating) and len(str(rating).split('.')[1]) == 1:\n",
    "        return str(rating) + '0'\n",
    "    else:\n",
    "        return rating\n",
    "\n",
    "def clean_rating(df):\n",
    "    avg = df['RATING'].mean()\n",
    "    df['RATING'].fillna(avg, inplace=True)\n",
    "    df['RATING'] = df['RATING'].apply(rating_fix)\n",
    "    return df\n",
    "\n",
    "df['RATING'] = clean_rating(df)['RATING']\n",
    "\n",
    "\n",
    "    "
   ]
  },
  {
   "cell_type": "code",
   "execution_count": 23,
   "metadata": {},
   "outputs": [
    {
     "data": {
      "text/plain": [
       "MOVIES        0\n",
       "YEAR          0\n",
       "GENRE         0\n",
       "RATING        0\n",
       "STARS         0\n",
       "VOTES       742\n",
       "RunTime    1910\n",
       "dtype: int64"
      ]
     },
     "execution_count": 23,
     "metadata": {},
     "output_type": "execute_result"
    }
   ],
   "source": [
    "df.isnull().sum()"
   ]
  },
  {
   "cell_type": "code",
   "execution_count": 24,
   "metadata": {},
   "outputs": [
    {
     "data": {
      "text/plain": [
       "array(['6.10', '5.00', '8.20', '9.20', 6.94840917733553, '7.60', '6.80',\n",
       "       '8.60', '7.90', '7.40', '6.00', '8.10', '6.20', '5.40', '8.00',\n",
       "       '7.50', '9.40', '8.30', '8.70', '8.90', '8.80', '8.50', '8.40',\n",
       "       '6.70', '7.70', '9.00', '5.80', '3.30', '7.80', '5.70', '6.60',\n",
       "       '6.90', '6.50', '7.10', '5.60', '7.30', '9.10', '7.20', '9.30',\n",
       "       '7.00', '6.30', '3.70', '5.50', '4.60', '5.30', '4.70', '5.90',\n",
       "       '5.10', '6.40', '4.80', '4.90', '2.70', '4.40', '4.50', '4.20',\n",
       "       '3.80', '5.20', '2.80', '3.50', '4.30', '3.20', '1.10', '3.90',\n",
       "       '4.00', '3.40', '2.60', '3.60', '2.50', '2.20', '2.90', '4.10',\n",
       "       '3.10', '2.10', '3.00', '2.00', '2.30', '2.40', '1.80', '9.60',\n",
       "       '9.50', '9.70', '9.90', '9.80'], dtype=object)"
      ]
     },
     "execution_count": 24,
     "metadata": {},
     "output_type": "execute_result"
    }
   ],
   "source": [
    "df['RATING'].unique()"
   ]
  },
  {
   "cell_type": "code",
   "execution_count": 25,
   "metadata": {},
   "outputs": [
    {
     "name": "stderr",
     "output_type": "stream",
     "text": [
      "C:\\Users\\youss\\AppData\\Local\\Temp\\ipykernel_18740\\1789244501.py:1: SettingWithCopyWarning: \n",
      "A value is trying to be set on a copy of a slice from a DataFrame.\n",
      "Try using .loc[row_indexer,col_indexer] = value instead\n",
      "\n",
      "See the caveats in the documentation: https://pandas.pydata.org/pandas-docs/stable/user_guide/indexing.html#returning-a-view-versus-a-copy\n",
      "  df['RATING'] = df['RATING'].astype(float)\n"
     ]
    }
   ],
   "source": [
    "df['RATING'] = df['RATING'].astype(float)\n",
    "    "
   ]
  },
  {
   "cell_type": "markdown",
   "metadata": {},
   "source": [
    "Stars\n"
   ]
  },
  {
   "cell_type": "code",
   "execution_count": 26,
   "metadata": {},
   "outputs": [
    {
     "data": {
      "text/plain": [
       "array(['\\n    Director:\\nPeter Thorwarth\\n| \\n    Stars:\\nPeri Baumeister, \\nCarl Anton Koch, \\nAlexander Scheer, \\nKais Setti\\n',\n",
       "       '\\n            \\n    Stars:\\nChris Wood, \\nSarah Michelle Gellar, \\nLena Headey, \\nMark Hamill\\n',\n",
       "       '\\n            \\n    Stars:\\nAndrew Lincoln, \\nNorman Reedus, \\nMelissa McBride, \\nLauren Cohan\\n',\n",
       "       ...,\n",
       "       '\\n    Director:\\nOrlando von Einsiedel\\n| \\n    Star:\\nPrince Harry\\n',\n",
       "       '\\n    Director:\\nJovanka Vuckovic\\n| \\n    Stars:\\nMorgan Taylor Campbell, \\nIñaki Godoy, \\nRhianna Jagpal, \\nSiddhartha Minhas\\n',\n",
       "       '\\n    Director:\\nJovanka Vuckovic\\n| \\n    Stars:\\nMorgan Taylor Campbell, \\nJennifer Cheon Garcia, \\nIñaki Godoy, \\nRhianna Jagpal\\n'],\n",
       "      dtype=object)"
      ]
     },
     "execution_count": 26,
     "metadata": {},
     "output_type": "execute_result"
    }
   ],
   "source": [
    "df['STARS'].unique()"
   ]
  },
  {
   "cell_type": "code",
   "execution_count": 27,
   "metadata": {},
   "outputs": [
    {
     "name": "stderr",
     "output_type": "stream",
     "text": [
      "C:\\Users\\youss\\AppData\\Local\\Temp\\ipykernel_18740\\3068160977.py:2: SettingWithCopyWarning: \n",
      "A value is trying to be set on a copy of a slice from a DataFrame.\n",
      "Try using .loc[row_indexer,col_indexer] = value instead\n",
      "\n",
      "See the caveats in the documentation: https://pandas.pydata.org/pandas-docs/stable/user_guide/indexing.html#returning-a-view-versus-a-copy\n",
      "  df['STARS'] = df['STARS'].str.replace('\\n', '')\n",
      "C:\\Users\\youss\\AppData\\Local\\Temp\\ipykernel_18740\\3068160977.py:3: SettingWithCopyWarning: \n",
      "A value is trying to be set on a copy of a slice from a DataFrame.\n",
      "Try using .loc[row_indexer,col_indexer] = value instead\n",
      "\n",
      "See the caveats in the documentation: https://pandas.pydata.org/pandas-docs/stable/user_guide/indexing.html#returning-a-view-versus-a-copy\n",
      "  df['STARS'] = df['STARS'].str.replace('Stars:', ', ')\n",
      "C:\\Users\\youss\\AppData\\Local\\Temp\\ipykernel_18740\\3068160977.py:4: SettingWithCopyWarning: \n",
      "A value is trying to be set on a copy of a slice from a DataFrame.\n",
      "Try using .loc[row_indexer,col_indexer] = value instead\n",
      "\n",
      "See the caveats in the documentation: https://pandas.pydata.org/pandas-docs/stable/user_guide/indexing.html#returning-a-view-versus-a-copy\n",
      "  df['STARS'] = df['STARS'].str.replace('Star:', ', ')\n",
      "C:\\Users\\youss\\AppData\\Local\\Temp\\ipykernel_18740\\3068160977.py:5: SettingWithCopyWarning: \n",
      "A value is trying to be set on a copy of a slice from a DataFrame.\n",
      "Try using .loc[row_indexer,col_indexer] = value instead\n",
      "\n",
      "See the caveats in the documentation: https://pandas.pydata.org/pandas-docs/stable/user_guide/indexing.html#returning-a-view-versus-a-copy\n",
      "  df['STARS'] = df['STARS'].str.replace('Director:', ', ')\n",
      "C:\\Users\\youss\\AppData\\Local\\Temp\\ipykernel_18740\\3068160977.py:6: SettingWithCopyWarning: \n",
      "A value is trying to be set on a copy of a slice from a DataFrame.\n",
      "Try using .loc[row_indexer,col_indexer] = value instead\n",
      "\n",
      "See the caveats in the documentation: https://pandas.pydata.org/pandas-docs/stable/user_guide/indexing.html#returning-a-view-versus-a-copy\n",
      "  df['STARS'] = df['STARS'].str.replace('|', '')\n",
      "C:\\Users\\youss\\AppData\\Local\\Temp\\ipykernel_18740\\3068160977.py:7: SettingWithCopyWarning: \n",
      "A value is trying to be set on a copy of a slice from a DataFrame.\n",
      "Try using .loc[row_indexer,col_indexer] = value instead\n",
      "\n",
      "See the caveats in the documentation: https://pandas.pydata.org/pandas-docs/stable/user_guide/indexing.html#returning-a-view-versus-a-copy\n",
      "  df['STARS'] = df['STARS'].str.strip()\n",
      "C:\\Users\\youss\\AppData\\Local\\Temp\\ipykernel_18740\\3068160977.py:11: SettingWithCopyWarning: \n",
      "A value is trying to be set on a copy of a slice from a DataFrame.\n",
      "Try using .loc[row_indexer,col_indexer] = value instead\n",
      "\n",
      "See the caveats in the documentation: https://pandas.pydata.org/pandas-docs/stable/user_guide/indexing.html#returning-a-view-versus-a-copy\n",
      "  df['STARS'] = clean_stars(df)['STARS']\n"
     ]
    }
   ],
   "source": [
    "def clean_stars(df):\n",
    "    df['STARS'] = df['STARS'].str.replace('\\n', '')\n",
    "    df['STARS'] = df['STARS'].str.replace('Stars:', ', ')\n",
    "    df['STARS'] = df['STARS'].str.replace('Star:', ', ')\n",
    "    df['STARS'] = df['STARS'].str.replace('Director:', ', ')\n",
    "    df['STARS'] = df['STARS'].str.replace('|', '')\n",
    "    df['STARS'] = df['STARS'].str.strip()\n",
    "    \n",
    "\n",
    "    return df\n",
    "df['STARS'] = clean_stars(df)['STARS']"
   ]
  },
  {
   "cell_type": "code",
   "execution_count": 28,
   "metadata": {},
   "outputs": [
    {
     "data": {
      "text/html": [
       "<div>\n",
       "<style scoped>\n",
       "    .dataframe tbody tr th:only-of-type {\n",
       "        vertical-align: middle;\n",
       "    }\n",
       "\n",
       "    .dataframe tbody tr th {\n",
       "        vertical-align: top;\n",
       "    }\n",
       "\n",
       "    .dataframe thead th {\n",
       "        text-align: right;\n",
       "    }\n",
       "</style>\n",
       "<table border=\"1\" class=\"dataframe\">\n",
       "  <thead>\n",
       "    <tr style=\"text-align: right;\">\n",
       "      <th></th>\n",
       "      <th>MOVIES</th>\n",
       "      <th>YEAR</th>\n",
       "      <th>GENRE</th>\n",
       "      <th>RATING</th>\n",
       "      <th>STARS</th>\n",
       "      <th>VOTES</th>\n",
       "      <th>RunTime</th>\n",
       "    </tr>\n",
       "  </thead>\n",
       "  <tbody>\n",
       "    <tr>\n",
       "      <th>0</th>\n",
       "      <td>Blood Red Sky</td>\n",
       "      <td>2021</td>\n",
       "      <td>Action, Horror, Thriller</td>\n",
       "      <td>6.100000</td>\n",
       "      <td>, Peter Thorwarth     , Peri Baumeister, Carl ...</td>\n",
       "      <td>21,062</td>\n",
       "      <td>121.0</td>\n",
       "    </tr>\n",
       "    <tr>\n",
       "      <th>1</th>\n",
       "      <td>Masters of the Universe: Revelation</td>\n",
       "      <td>2021</td>\n",
       "      <td>Animation, Action, Adventure</td>\n",
       "      <td>5.000000</td>\n",
       "      <td>, Chris Wood, Sarah Michelle Gellar, Lena Head...</td>\n",
       "      <td>17,870</td>\n",
       "      <td>25.0</td>\n",
       "    </tr>\n",
       "    <tr>\n",
       "      <th>2</th>\n",
       "      <td>The Walking Dead</td>\n",
       "      <td>2010</td>\n",
       "      <td>Drama, Horror, Thriller</td>\n",
       "      <td>8.200000</td>\n",
       "      <td>, Andrew Lincoln, Norman Reedus, Melissa McBri...</td>\n",
       "      <td>885,805</td>\n",
       "      <td>44.0</td>\n",
       "    </tr>\n",
       "    <tr>\n",
       "      <th>3</th>\n",
       "      <td>Rick and Morty</td>\n",
       "      <td>2013</td>\n",
       "      <td>Animation, Adventure, Comedy</td>\n",
       "      <td>9.200000</td>\n",
       "      <td>, Justin Roiland, Chris Parnell, Spencer Gramm...</td>\n",
       "      <td>414,849</td>\n",
       "      <td>23.0</td>\n",
       "    </tr>\n",
       "    <tr>\n",
       "      <th>4</th>\n",
       "      <td>Army of Thieves</td>\n",
       "      <td>2021</td>\n",
       "      <td>Action, Crime, Horror</td>\n",
       "      <td>6.948409</td>\n",
       "      <td>, Matthias Schweighöfer     , Matthias Schweig...</td>\n",
       "      <td>NaN</td>\n",
       "      <td>NaN</td>\n",
       "    </tr>\n",
       "    <tr>\n",
       "      <th>...</th>\n",
       "      <td>...</td>\n",
       "      <td>...</td>\n",
       "      <td>...</td>\n",
       "      <td>...</td>\n",
       "      <td>...</td>\n",
       "      <td>...</td>\n",
       "      <td>...</td>\n",
       "    </tr>\n",
       "    <tr>\n",
       "      <th>9993</th>\n",
       "      <td>Totenfrau</td>\n",
       "      <td>2022</td>\n",
       "      <td>Drama, Thriller</td>\n",
       "      <td>6.948409</td>\n",
       "      <td>, Nicolai Rohde     , Felix Klare, Romina Küpe...</td>\n",
       "      <td>NaN</td>\n",
       "      <td>NaN</td>\n",
       "    </tr>\n",
       "    <tr>\n",
       "      <th>9995</th>\n",
       "      <td>Arcane</td>\n",
       "      <td>2021</td>\n",
       "      <td>Animation, Action, Adventure</td>\n",
       "      <td>6.948409</td>\n",
       "      <td></td>\n",
       "      <td>NaN</td>\n",
       "      <td>NaN</td>\n",
       "    </tr>\n",
       "    <tr>\n",
       "      <th>9996</th>\n",
       "      <td>Heart of Invictus</td>\n",
       "      <td>2022</td>\n",
       "      <td>Documentary, Sport</td>\n",
       "      <td>6.948409</td>\n",
       "      <td>, Orlando von Einsiedel     , Prince Harry</td>\n",
       "      <td>NaN</td>\n",
       "      <td>NaN</td>\n",
       "    </tr>\n",
       "    <tr>\n",
       "      <th>9997</th>\n",
       "      <td>The Imperfects</td>\n",
       "      <td>2021</td>\n",
       "      <td>Adventure, Drama, Fantasy</td>\n",
       "      <td>6.948409</td>\n",
       "      <td>, Jovanka Vuckovic     , Morgan Taylor Campbel...</td>\n",
       "      <td>NaN</td>\n",
       "      <td>NaN</td>\n",
       "    </tr>\n",
       "    <tr>\n",
       "      <th>9998</th>\n",
       "      <td>The Imperfects</td>\n",
       "      <td>2021</td>\n",
       "      <td>Adventure, Drama, Fantasy</td>\n",
       "      <td>6.948409</td>\n",
       "      <td>, Jovanka Vuckovic     , Morgan Taylor Campbel...</td>\n",
       "      <td>NaN</td>\n",
       "      <td>NaN</td>\n",
       "    </tr>\n",
       "  </tbody>\n",
       "</table>\n",
       "<p>8631 rows × 7 columns</p>\n",
       "</div>"
      ],
      "text/plain": [
       "                                   MOVIES  YEAR                         GENRE  \\\n",
       "0                           Blood Red Sky  2021      Action, Horror, Thriller   \n",
       "1     Masters of the Universe: Revelation  2021  Animation, Action, Adventure   \n",
       "2                        The Walking Dead  2010       Drama, Horror, Thriller   \n",
       "3                          Rick and Morty  2013  Animation, Adventure, Comedy   \n",
       "4                         Army of Thieves  2021         Action, Crime, Horror   \n",
       "...                                   ...   ...                           ...   \n",
       "9993                            Totenfrau  2022               Drama, Thriller   \n",
       "9995                               Arcane  2021  Animation, Action, Adventure   \n",
       "9996                    Heart of Invictus  2022            Documentary, Sport   \n",
       "9997                       The Imperfects  2021     Adventure, Drama, Fantasy   \n",
       "9998                       The Imperfects  2021     Adventure, Drama, Fantasy   \n",
       "\n",
       "        RATING                                              STARS    VOTES  \\\n",
       "0     6.100000  , Peter Thorwarth     , Peri Baumeister, Carl ...   21,062   \n",
       "1     5.000000  , Chris Wood, Sarah Michelle Gellar, Lena Head...   17,870   \n",
       "2     8.200000  , Andrew Lincoln, Norman Reedus, Melissa McBri...  885,805   \n",
       "3     9.200000  , Justin Roiland, Chris Parnell, Spencer Gramm...  414,849   \n",
       "4     6.948409  , Matthias Schweighöfer     , Matthias Schweig...      NaN   \n",
       "...        ...                                                ...      ...   \n",
       "9993  6.948409  , Nicolai Rohde     , Felix Klare, Romina Küpe...      NaN   \n",
       "9995  6.948409                                                         NaN   \n",
       "9996  6.948409         , Orlando von Einsiedel     , Prince Harry      NaN   \n",
       "9997  6.948409  , Jovanka Vuckovic     , Morgan Taylor Campbel...      NaN   \n",
       "9998  6.948409  , Jovanka Vuckovic     , Morgan Taylor Campbel...      NaN   \n",
       "\n",
       "      RunTime  \n",
       "0       121.0  \n",
       "1        25.0  \n",
       "2        44.0  \n",
       "3        23.0  \n",
       "4         NaN  \n",
       "...       ...  \n",
       "9993      NaN  \n",
       "9995      NaN  \n",
       "9996      NaN  \n",
       "9997      NaN  \n",
       "9998      NaN  \n",
       "\n",
       "[8631 rows x 7 columns]"
      ]
     },
     "execution_count": 28,
     "metadata": {},
     "output_type": "execute_result"
    }
   ],
   "source": [
    "df"
   ]
  },
  {
   "cell_type": "code",
   "execution_count": 29,
   "metadata": {},
   "outputs": [
    {
     "data": {
      "text/plain": [
       "array([', Peter Thorwarth     , Peri Baumeister, Carl Anton Koch, Alexander Scheer, Kais Setti',\n",
       "       ', Chris Wood, Sarah Michelle Gellar, Lena Headey, Mark Hamill',\n",
       "       ', Andrew Lincoln, Norman Reedus, Melissa McBride, Lauren Cohan',\n",
       "       ..., ', Orlando von Einsiedel     , Prince Harry',\n",
       "       ', Jovanka Vuckovic     , Morgan Taylor Campbell, Iñaki Godoy, Rhianna Jagpal, Siddhartha Minhas',\n",
       "       ', Jovanka Vuckovic     , Morgan Taylor Campbell, Jennifer Cheon Garcia, Iñaki Godoy, Rhianna Jagpal'],\n",
       "      dtype=object)"
      ]
     },
     "execution_count": 29,
     "metadata": {},
     "output_type": "execute_result"
    }
   ],
   "source": [
    "df['STARS'].unique()"
   ]
  },
  {
   "cell_type": "code",
   "execution_count": 30,
   "metadata": {},
   "outputs": [
    {
     "data": {
      "text/plain": [
       "0"
      ]
     },
     "execution_count": 30,
     "metadata": {},
     "output_type": "execute_result"
    }
   ],
   "source": [
    "df['STARS'].isnull().sum()"
   ]
  },
  {
   "cell_type": "markdown",
   "metadata": {},
   "source": [
    "Votes"
   ]
  },
  {
   "cell_type": "code",
   "execution_count": 31,
   "metadata": {},
   "outputs": [
    {
     "data": {
      "text/html": [
       "<div>\n",
       "<style scoped>\n",
       "    .dataframe tbody tr th:only-of-type {\n",
       "        vertical-align: middle;\n",
       "    }\n",
       "\n",
       "    .dataframe tbody tr th {\n",
       "        vertical-align: top;\n",
       "    }\n",
       "\n",
       "    .dataframe thead th {\n",
       "        text-align: right;\n",
       "    }\n",
       "</style>\n",
       "<table border=\"1\" class=\"dataframe\">\n",
       "  <thead>\n",
       "    <tr style=\"text-align: right;\">\n",
       "      <th></th>\n",
       "      <th>YEAR</th>\n",
       "      <th>RATING</th>\n",
       "      <th>RunTime</th>\n",
       "    </tr>\n",
       "  </thead>\n",
       "  <tbody>\n",
       "    <tr>\n",
       "      <th>count</th>\n",
       "      <td>8631.0</td>\n",
       "      <td>8631.000000</td>\n",
       "      <td>6721.000000</td>\n",
       "    </tr>\n",
       "    <tr>\n",
       "      <th>mean</th>\n",
       "      <td>2016.127448</td>\n",
       "      <td>6.948409</td>\n",
       "      <td>67.910876</td>\n",
       "    </tr>\n",
       "    <tr>\n",
       "      <th>std</th>\n",
       "      <td>7.477504</td>\n",
       "      <td>1.159651</td>\n",
       "      <td>47.384728</td>\n",
       "    </tr>\n",
       "    <tr>\n",
       "      <th>min</th>\n",
       "      <td>1932.0</td>\n",
       "      <td>1.100000</td>\n",
       "      <td>1.000000</td>\n",
       "    </tr>\n",
       "    <tr>\n",
       "      <th>25%</th>\n",
       "      <td>2015.0</td>\n",
       "      <td>6.400000</td>\n",
       "      <td>35.000000</td>\n",
       "    </tr>\n",
       "    <tr>\n",
       "      <th>50%</th>\n",
       "      <td>2018.0</td>\n",
       "      <td>7.000000</td>\n",
       "      <td>59.000000</td>\n",
       "    </tr>\n",
       "    <tr>\n",
       "      <th>75%</th>\n",
       "      <td>2020.0</td>\n",
       "      <td>7.700000</td>\n",
       "      <td>94.000000</td>\n",
       "    </tr>\n",
       "    <tr>\n",
       "      <th>max</th>\n",
       "      <td>2023.0</td>\n",
       "      <td>9.900000</td>\n",
       "      <td>853.000000</td>\n",
       "    </tr>\n",
       "  </tbody>\n",
       "</table>\n",
       "</div>"
      ],
      "text/plain": [
       "              YEAR       RATING      RunTime\n",
       "count       8631.0  8631.000000  6721.000000\n",
       "mean   2016.127448     6.948409    67.910876\n",
       "std       7.477504     1.159651    47.384728\n",
       "min         1932.0     1.100000     1.000000\n",
       "25%         2015.0     6.400000    35.000000\n",
       "50%         2018.0     7.000000    59.000000\n",
       "75%         2020.0     7.700000    94.000000\n",
       "max         2023.0     9.900000   853.000000"
      ]
     },
     "execution_count": 31,
     "metadata": {},
     "output_type": "execute_result"
    }
   ],
   "source": [
    "df.describe()"
   ]
  },
  {
   "cell_type": "code",
   "execution_count": 32,
   "metadata": {},
   "outputs": [
    {
     "data": {
      "text/plain": [
       "742"
      ]
     },
     "execution_count": 32,
     "metadata": {},
     "output_type": "execute_result"
    }
   ],
   "source": [
    "df['VOTES'].isnull().sum()"
   ]
  },
  {
   "cell_type": "code",
   "execution_count": 33,
   "metadata": {},
   "outputs": [
    {
     "name": "stdout",
     "output_type": "stream",
     "text": [
      "<class 'pandas.core.frame.DataFrame'>\n",
      "Index: 8631 entries, 0 to 9998\n",
      "Data columns (total 7 columns):\n",
      " #   Column   Non-Null Count  Dtype  \n",
      "---  ------   --------------  -----  \n",
      " 0   MOVIES   8631 non-null   object \n",
      " 1   YEAR     8631 non-null   Int64  \n",
      " 2   GENRE    8631 non-null   object \n",
      " 3   RATING   8631 non-null   float64\n",
      " 4   STARS    8631 non-null   object \n",
      " 5   VOTES    7889 non-null   object \n",
      " 6   RunTime  6721 non-null   float64\n",
      "dtypes: Int64(1), float64(2), object(4)\n",
      "memory usage: 547.9+ KB\n"
     ]
    }
   ],
   "source": [
    "df.info()"
   ]
  },
  {
   "cell_type": "code",
   "execution_count": 34,
   "metadata": {},
   "outputs": [
    {
     "name": "stderr",
     "output_type": "stream",
     "text": [
      "C:\\Users\\youss\\AppData\\Local\\Temp\\ipykernel_18740\\3998306983.py:1: SettingWithCopyWarning: \n",
      "A value is trying to be set on a copy of a slice from a DataFrame\n",
      "\n",
      "See the caveats in the documentation: https://pandas.pydata.org/pandas-docs/stable/user_guide/indexing.html#returning-a-view-versus-a-copy\n",
      "  df.dropna(subset=['VOTES'], inplace=True)\n"
     ]
    }
   ],
   "source": [
    "df.dropna(subset=['VOTES'], inplace=True)"
   ]
  },
  {
   "cell_type": "code",
   "execution_count": 35,
   "metadata": {},
   "outputs": [
    {
     "data": {
      "text/plain": [
       "0"
      ]
     },
     "execution_count": 35,
     "metadata": {},
     "output_type": "execute_result"
    }
   ],
   "source": [
    "df['VOTES'].isnull().sum()"
   ]
  },
  {
   "cell_type": "code",
   "execution_count": 36,
   "metadata": {},
   "outputs": [
    {
     "name": "stderr",
     "output_type": "stream",
     "text": [
      "C:\\Users\\youss\\AppData\\Local\\Temp\\ipykernel_18740\\3534070335.py:1: SettingWithCopyWarning: \n",
      "A value is trying to be set on a copy of a slice from a DataFrame.\n",
      "Try using .loc[row_indexer,col_indexer] = value instead\n",
      "\n",
      "See the caveats in the documentation: https://pandas.pydata.org/pandas-docs/stable/user_guide/indexing.html#returning-a-view-versus-a-copy\n",
      "  df['VOTES'] = df['VOTES'].str.replace(',', '').astype(float)\n"
     ]
    }
   ],
   "source": [
    "df['VOTES'] = df['VOTES'].str.replace(',', '').astype(float)"
   ]
  },
  {
   "cell_type": "code",
   "execution_count": 37,
   "metadata": {},
   "outputs": [
    {
     "name": "stdout",
     "output_type": "stream",
     "text": [
      "<class 'pandas.core.frame.DataFrame'>\n",
      "Index: 7889 entries, 0 to 9979\n",
      "Data columns (total 7 columns):\n",
      " #   Column   Non-Null Count  Dtype  \n",
      "---  ------   --------------  -----  \n",
      " 0   MOVIES   7889 non-null   object \n",
      " 1   YEAR     7889 non-null   Int64  \n",
      " 2   GENRE    7889 non-null   object \n",
      " 3   RATING   7889 non-null   float64\n",
      " 4   STARS    7889 non-null   object \n",
      " 5   VOTES    7889 non-null   float64\n",
      " 6   RunTime  6524 non-null   float64\n",
      "dtypes: Int64(1), float64(3), object(3)\n",
      "memory usage: 500.8+ KB\n"
     ]
    }
   ],
   "source": [
    "df.info()"
   ]
  },
  {
   "cell_type": "code",
   "execution_count": 38,
   "metadata": {},
   "outputs": [
    {
     "data": {
      "text/html": [
       "<div>\n",
       "<style scoped>\n",
       "    .dataframe tbody tr th:only-of-type {\n",
       "        vertical-align: middle;\n",
       "    }\n",
       "\n",
       "    .dataframe tbody tr th {\n",
       "        vertical-align: top;\n",
       "    }\n",
       "\n",
       "    .dataframe thead th {\n",
       "        text-align: right;\n",
       "    }\n",
       "</style>\n",
       "<table border=\"1\" class=\"dataframe\">\n",
       "  <thead>\n",
       "    <tr style=\"text-align: right;\">\n",
       "      <th></th>\n",
       "      <th>YEAR</th>\n",
       "      <th>RATING</th>\n",
       "      <th>VOTES</th>\n",
       "      <th>RunTime</th>\n",
       "    </tr>\n",
       "  </thead>\n",
       "  <tbody>\n",
       "    <tr>\n",
       "      <th>count</th>\n",
       "      <td>7889.0</td>\n",
       "      <td>7889.000000</td>\n",
       "      <td>7.889000e+03</td>\n",
       "      <td>6524.000000</td>\n",
       "    </tr>\n",
       "    <tr>\n",
       "      <th>mean</th>\n",
       "      <td>2015.833819</td>\n",
       "      <td>6.948409</td>\n",
       "      <td>1.457662e+04</td>\n",
       "      <td>68.407572</td>\n",
       "    </tr>\n",
       "    <tr>\n",
       "      <th>std</th>\n",
       "      <td>7.667642</td>\n",
       "      <td>1.212968</td>\n",
       "      <td>6.948007e+04</td>\n",
       "      <td>47.576807</td>\n",
       "    </tr>\n",
       "    <tr>\n",
       "      <th>min</th>\n",
       "      <td>1932.0</td>\n",
       "      <td>1.100000</td>\n",
       "      <td>5.000000e+00</td>\n",
       "      <td>1.000000</td>\n",
       "    </tr>\n",
       "    <tr>\n",
       "      <th>25%</th>\n",
       "      <td>2015.0</td>\n",
       "      <td>6.300000</td>\n",
       "      <td>1.600000e+02</td>\n",
       "      <td>35.000000</td>\n",
       "    </tr>\n",
       "    <tr>\n",
       "      <th>50%</th>\n",
       "      <td>2018.0</td>\n",
       "      <td>7.100000</td>\n",
       "      <td>7.650000e+02</td>\n",
       "      <td>60.000000</td>\n",
       "    </tr>\n",
       "    <tr>\n",
       "      <th>75%</th>\n",
       "      <td>2020.0</td>\n",
       "      <td>7.800000</td>\n",
       "      <td>3.610000e+03</td>\n",
       "      <td>94.000000</td>\n",
       "    </tr>\n",
       "    <tr>\n",
       "      <th>max</th>\n",
       "      <td>2021.0</td>\n",
       "      <td>9.900000</td>\n",
       "      <td>1.713028e+06</td>\n",
       "      <td>853.000000</td>\n",
       "    </tr>\n",
       "  </tbody>\n",
       "</table>\n",
       "</div>"
      ],
      "text/plain": [
       "              YEAR       RATING         VOTES      RunTime\n",
       "count       7889.0  7889.000000  7.889000e+03  6524.000000\n",
       "mean   2015.833819     6.948409  1.457662e+04    68.407572\n",
       "std       7.667642     1.212968  6.948007e+04    47.576807\n",
       "min         1932.0     1.100000  5.000000e+00     1.000000\n",
       "25%         2015.0     6.300000  1.600000e+02    35.000000\n",
       "50%         2018.0     7.100000  7.650000e+02    60.000000\n",
       "75%         2020.0     7.800000  3.610000e+03    94.000000\n",
       "max         2021.0     9.900000  1.713028e+06   853.000000"
      ]
     },
     "execution_count": 38,
     "metadata": {},
     "output_type": "execute_result"
    }
   ],
   "source": [
    "df.describe()"
   ]
  },
  {
   "cell_type": "markdown",
   "metadata": {},
   "source": [
    "Runtime\n"
   ]
  },
  {
   "cell_type": "code",
   "execution_count": 39,
   "metadata": {},
   "outputs": [
    {
     "data": {
      "text/plain": [
       "array([121.,  25.,  44.,  23.,  50., 110.,  53.,  30., 114.,  42., 107.,\n",
       "        nan,  60.,  41.,  49.,  51., 109.,  22.,  43., 136.,  46.,  45.,\n",
       "        58.,  24.,  70.,  64., 148., 395., 101.,  95.,  32., 118.,  47.,\n",
       "        31., 104., 127.,  54.,  92.,  88.,  59.,  55., 178.,  16.,  48.,\n",
       "       124., 151., 100.,  40., 149., 119.,  20.,  87., 111.,  91., 117.,\n",
       "       129., 113.,  15.,  85., 169.,  97., 116., 138., 137., 135., 209.,\n",
       "       201., 123., 572., 467.,  56., 112., 125., 128., 147.,  98.,  26.,\n",
       "       115., 156., 179.,  96., 108.,  34.,  11., 152.,  99.,  94., 133.,\n",
       "       298.,  28., 126., 102., 106., 385., 122., 452., 120., 494., 240.,\n",
       "       134.,  80.,  35., 216., 296., 143., 164.,  90.,  89., 386., 150.,\n",
       "       105., 131.,  65., 103.,  86.,  52., 356., 154., 130., 491., 132.,\n",
       "        93., 370.,  18., 228.,  84., 140., 280.,  78., 316., 264.,  83.,\n",
       "       270., 197., 347., 267.,  37., 230., 233.,  21., 220., 331.,  39.,\n",
       "         9., 281.,  10., 557.,  33.,  82., 461., 460.,  27., 231., 189.,\n",
       "       360., 498., 187., 145.,  75., 629., 144., 542., 258., 239., 312.,\n",
       "       158., 229., 403.,  57., 313., 306., 142., 358., 139., 300., 374.,\n",
       "       203., 160.,  29., 192., 191.,  62., 219.,  77.,  73.,  79.,  36.,\n",
       "       236., 204., 210.,  13., 227.,  81., 163., 195.,   7., 242.,  72.,\n",
       "       284., 271., 853.,  76.,  38., 241., 162., 202., 253.,  74., 333.,\n",
       "       288., 252.,  63.,   3., 351., 217., 337., 170.,  71., 355., 172.,\n",
       "       174.,   8., 573.,  17.,  61.,   5., 437., 330., 290., 173., 249.,\n",
       "        68., 188.,   1., 303., 211., 180., 205.,  69.,  67., 157.,  66.,\n",
       "       175., 161.,  14., 153.,  12., 155., 181., 418., 245.,   4.,  19.,\n",
       "       171.,   6.,   2., 373., 146., 141., 165.])"
      ]
     },
     "execution_count": 39,
     "metadata": {},
     "output_type": "execute_result"
    }
   ],
   "source": [
    "df['RunTime'].unique()"
   ]
  },
  {
   "cell_type": "code",
   "execution_count": 40,
   "metadata": {},
   "outputs": [
    {
     "data": {
      "text/plain": [
       "1365"
      ]
     },
     "execution_count": 40,
     "metadata": {},
     "output_type": "execute_result"
    }
   ],
   "source": [
    "df['RunTime'].isnull().sum()"
   ]
  },
  {
   "cell_type": "code",
   "execution_count": 41,
   "metadata": {},
   "outputs": [
    {
     "name": "stderr",
     "output_type": "stream",
     "text": [
      "C:\\Users\\youss\\AppData\\Local\\Temp\\ipykernel_18740\\1394498989.py:1: SettingWithCopyWarning: \n",
      "A value is trying to be set on a copy of a slice from a DataFrame\n",
      "\n",
      "See the caveats in the documentation: https://pandas.pydata.org/pandas-docs/stable/user_guide/indexing.html#returning-a-view-versus-a-copy\n",
      "  df.dropna(subset=['RunTime'], inplace=True)\n"
     ]
    }
   ],
   "source": [
    "df.dropna(subset=['RunTime'], inplace=True)"
   ]
  },
  {
   "cell_type": "code",
   "execution_count": 42,
   "metadata": {},
   "outputs": [
    {
     "data": {
      "text/plain": [
       "MOVIES     0\n",
       "YEAR       0\n",
       "GENRE      0\n",
       "RATING     0\n",
       "STARS      0\n",
       "VOTES      0\n",
       "RunTime    0\n",
       "dtype: int64"
      ]
     },
     "execution_count": 42,
     "metadata": {},
     "output_type": "execute_result"
    }
   ],
   "source": [
    "df.isnull().sum()"
   ]
  },
  {
   "cell_type": "code",
   "execution_count": 43,
   "metadata": {},
   "outputs": [
    {
     "name": "stdout",
     "output_type": "stream",
     "text": [
      "<class 'pandas.core.frame.DataFrame'>\n",
      "Index: 6524 entries, 0 to 9963\n",
      "Data columns (total 7 columns):\n",
      " #   Column   Non-Null Count  Dtype  \n",
      "---  ------   --------------  -----  \n",
      " 0   MOVIES   6524 non-null   object \n",
      " 1   YEAR     6524 non-null   Int64  \n",
      " 2   GENRE    6524 non-null   object \n",
      " 3   RATING   6524 non-null   float64\n",
      " 4   STARS    6524 non-null   object \n",
      " 5   VOTES    6524 non-null   float64\n",
      " 6   RunTime  6524 non-null   float64\n",
      "dtypes: Int64(1), float64(3), object(3)\n",
      "memory usage: 414.1+ KB\n"
     ]
    }
   ],
   "source": [
    "df.info()"
   ]
  },
  {
   "cell_type": "code",
   "execution_count": 44,
   "metadata": {},
   "outputs": [
    {
     "data": {
      "text/html": [
       "<div>\n",
       "<style scoped>\n",
       "    .dataframe tbody tr th:only-of-type {\n",
       "        vertical-align: middle;\n",
       "    }\n",
       "\n",
       "    .dataframe tbody tr th {\n",
       "        vertical-align: top;\n",
       "    }\n",
       "\n",
       "    .dataframe thead th {\n",
       "        text-align: right;\n",
       "    }\n",
       "</style>\n",
       "<table border=\"1\" class=\"dataframe\">\n",
       "  <thead>\n",
       "    <tr style=\"text-align: right;\">\n",
       "      <th></th>\n",
       "      <th>YEAR</th>\n",
       "      <th>RATING</th>\n",
       "      <th>VOTES</th>\n",
       "      <th>RunTime</th>\n",
       "    </tr>\n",
       "  </thead>\n",
       "  <tbody>\n",
       "    <tr>\n",
       "      <th>count</th>\n",
       "      <td>6524.0</td>\n",
       "      <td>6524.000000</td>\n",
       "      <td>6.524000e+03</td>\n",
       "      <td>6524.000000</td>\n",
       "    </tr>\n",
       "    <tr>\n",
       "      <th>mean</th>\n",
       "      <td>2015.250307</td>\n",
       "      <td>6.893424</td>\n",
       "      <td>1.751153e+04</td>\n",
       "      <td>68.407572</td>\n",
       "    </tr>\n",
       "    <tr>\n",
       "      <th>std</th>\n",
       "      <td>8.208051</td>\n",
       "      <td>1.238689</td>\n",
       "      <td>7.606660e+04</td>\n",
       "      <td>47.576807</td>\n",
       "    </tr>\n",
       "    <tr>\n",
       "      <th>min</th>\n",
       "      <td>1932.0</td>\n",
       "      <td>1.100000</td>\n",
       "      <td>5.000000e+00</td>\n",
       "      <td>1.000000</td>\n",
       "    </tr>\n",
       "    <tr>\n",
       "      <th>25%</th>\n",
       "      <td>2014.0</td>\n",
       "      <td>6.200000</td>\n",
       "      <td>2.807500e+02</td>\n",
       "      <td>35.000000</td>\n",
       "    </tr>\n",
       "    <tr>\n",
       "      <th>50%</th>\n",
       "      <td>2018.0</td>\n",
       "      <td>7.100000</td>\n",
       "      <td>1.191500e+03</td>\n",
       "      <td>60.000000</td>\n",
       "    </tr>\n",
       "    <tr>\n",
       "      <th>75%</th>\n",
       "      <td>2019.0</td>\n",
       "      <td>7.800000</td>\n",
       "      <td>4.870000e+03</td>\n",
       "      <td>94.000000</td>\n",
       "    </tr>\n",
       "    <tr>\n",
       "      <th>max</th>\n",
       "      <td>2021.0</td>\n",
       "      <td>9.900000</td>\n",
       "      <td>1.713028e+06</td>\n",
       "      <td>853.000000</td>\n",
       "    </tr>\n",
       "  </tbody>\n",
       "</table>\n",
       "</div>"
      ],
      "text/plain": [
       "              YEAR       RATING         VOTES      RunTime\n",
       "count       6524.0  6524.000000  6.524000e+03  6524.000000\n",
       "mean   2015.250307     6.893424  1.751153e+04    68.407572\n",
       "std       8.208051     1.238689  7.606660e+04    47.576807\n",
       "min         1932.0     1.100000  5.000000e+00     1.000000\n",
       "25%         2014.0     6.200000  2.807500e+02    35.000000\n",
       "50%         2018.0     7.100000  1.191500e+03    60.000000\n",
       "75%         2019.0     7.800000  4.870000e+03    94.000000\n",
       "max         2021.0     9.900000  1.713028e+06   853.000000"
      ]
     },
     "execution_count": 44,
     "metadata": {},
     "output_type": "execute_result"
    }
   ],
   "source": [
    "df.describe()"
   ]
  },
  {
   "cell_type": "code",
   "execution_count": 45,
   "metadata": {},
   "outputs": [
    {
     "name": "stderr",
     "output_type": "stream",
     "text": [
      "C:\\Users\\youss\\AppData\\Local\\Temp\\ipykernel_18740\\774163249.py:1: SettingWithCopyWarning: \n",
      "A value is trying to be set on a copy of a slice from a DataFrame.\n",
      "Try using .loc[row_indexer,col_indexer] = value instead\n",
      "\n",
      "See the caveats in the documentation: https://pandas.pydata.org/pandas-docs/stable/user_guide/indexing.html#returning-a-view-versus-a-copy\n",
      "  df['STARS'] = df['STARS'].str.replace(',', '',1)\n"
     ]
    }
   ],
   "source": [
    "df['STARS'] = df['STARS'].str.replace(',', '',1)"
   ]
  },
  {
   "cell_type": "code",
   "execution_count": 46,
   "metadata": {},
   "outputs": [
    {
     "name": "stderr",
     "output_type": "stream",
     "text": [
      "C:\\Users\\youss\\AppData\\Local\\Temp\\ipykernel_18740\\241173105.py:1: SettingWithCopyWarning: \n",
      "A value is trying to be set on a copy of a slice from a DataFrame\n",
      "\n",
      "See the caveats in the documentation: https://pandas.pydata.org/pandas-docs/stable/user_guide/indexing.html#returning-a-view-versus-a-copy\n",
      "  df.drop_duplicates(subset=['MOVIES'], inplace=True)\n"
     ]
    }
   ],
   "source": [
    "df.drop_duplicates(subset=['MOVIES'], inplace=True)\n",
    "\n"
   ]
  },
  {
   "cell_type": "code",
   "execution_count": 47,
   "metadata": {},
   "outputs": [
    {
     "data": {
      "text/html": [
       "<div>\n",
       "<style scoped>\n",
       "    .dataframe tbody tr th:only-of-type {\n",
       "        vertical-align: middle;\n",
       "    }\n",
       "\n",
       "    .dataframe tbody tr th {\n",
       "        vertical-align: top;\n",
       "    }\n",
       "\n",
       "    .dataframe thead th {\n",
       "        text-align: right;\n",
       "    }\n",
       "</style>\n",
       "<table border=\"1\" class=\"dataframe\">\n",
       "  <thead>\n",
       "    <tr style=\"text-align: right;\">\n",
       "      <th></th>\n",
       "      <th>MOVIES</th>\n",
       "      <th>YEAR</th>\n",
       "      <th>GENRE</th>\n",
       "      <th>RATING</th>\n",
       "      <th>STARS</th>\n",
       "      <th>VOTES</th>\n",
       "      <th>RunTime</th>\n",
       "    </tr>\n",
       "  </thead>\n",
       "  <tbody>\n",
       "    <tr>\n",
       "      <th>0</th>\n",
       "      <td>Blood Red Sky</td>\n",
       "      <td>2021</td>\n",
       "      <td>Action, Horror, Thriller</td>\n",
       "      <td>6.1</td>\n",
       "      <td>Peter Thorwarth     , Peri Baumeister, Carl A...</td>\n",
       "      <td>21062.0</td>\n",
       "      <td>121.0</td>\n",
       "    </tr>\n",
       "    <tr>\n",
       "      <th>1</th>\n",
       "      <td>Masters of the Universe: Revelation</td>\n",
       "      <td>2021</td>\n",
       "      <td>Animation, Action, Adventure</td>\n",
       "      <td>5.0</td>\n",
       "      <td>Chris Wood, Sarah Michelle Gellar, Lena Heade...</td>\n",
       "      <td>17870.0</td>\n",
       "      <td>25.0</td>\n",
       "    </tr>\n",
       "    <tr>\n",
       "      <th>2</th>\n",
       "      <td>The Walking Dead</td>\n",
       "      <td>2010</td>\n",
       "      <td>Drama, Horror, Thriller</td>\n",
       "      <td>8.2</td>\n",
       "      <td>Andrew Lincoln, Norman Reedus, Melissa McBrid...</td>\n",
       "      <td>885805.0</td>\n",
       "      <td>44.0</td>\n",
       "    </tr>\n",
       "    <tr>\n",
       "      <th>3</th>\n",
       "      <td>Rick and Morty</td>\n",
       "      <td>2013</td>\n",
       "      <td>Animation, Adventure, Comedy</td>\n",
       "      <td>9.2</td>\n",
       "      <td>Justin Roiland, Chris Parnell, Spencer Gramme...</td>\n",
       "      <td>414849.0</td>\n",
       "      <td>23.0</td>\n",
       "    </tr>\n",
       "    <tr>\n",
       "      <th>4</th>\n",
       "      <td>Outer Banks</td>\n",
       "      <td>2020</td>\n",
       "      <td>Action, Crime, Drama</td>\n",
       "      <td>7.6</td>\n",
       "      <td>Chase Stokes, Madelyn Cline, Madison Bailey, ...</td>\n",
       "      <td>25858.0</td>\n",
       "      <td>50.0</td>\n",
       "    </tr>\n",
       "    <tr>\n",
       "      <th>...</th>\n",
       "      <td>...</td>\n",
       "      <td>...</td>\n",
       "      <td>...</td>\n",
       "      <td>...</td>\n",
       "      <td>...</td>\n",
       "      <td>...</td>\n",
       "      <td>...</td>\n",
       "    </tr>\n",
       "    <tr>\n",
       "      <th>4909</th>\n",
       "      <td>Katla</td>\n",
       "      <td>2021</td>\n",
       "      <td>Drama, Mystery, Sci-Fi</td>\n",
       "      <td>7.5</td>\n",
       "      <td>Baltasar Kormákur     , Guðrún Ýr Eyfjörð, Ír...</td>\n",
       "      <td>453.0</td>\n",
       "      <td>51.0</td>\n",
       "    </tr>\n",
       "    <tr>\n",
       "      <th>4910</th>\n",
       "      <td>This Is a Robbery: The World's Biggest Art Heist</td>\n",
       "      <td>2021</td>\n",
       "      <td>Documentary, Crime, History</td>\n",
       "      <td>7.3</td>\n",
       "      <td>Colin Barnicle     , Nancy Clougherty, Justin...</td>\n",
       "      <td>175.0</td>\n",
       "      <td>53.0</td>\n",
       "    </tr>\n",
       "    <tr>\n",
       "      <th>4911</th>\n",
       "      <td>Modern Family</td>\n",
       "      <td>2009</td>\n",
       "      <td>Comedy, Drama, Romance</td>\n",
       "      <td>8.2</td>\n",
       "      <td>Jason Winer     , Ed O'Neill, Sofía Vergara, ...</td>\n",
       "      <td>3404.0</td>\n",
       "      <td>23.0</td>\n",
       "    </tr>\n",
       "    <tr>\n",
       "      <th>4912</th>\n",
       "      <td>Master of None</td>\n",
       "      <td>2015</td>\n",
       "      <td>Comedy, Drama</td>\n",
       "      <td>5.8</td>\n",
       "      <td>Aziz Ansari     , Naomi Ackie, Lena Waithe, A...</td>\n",
       "      <td>1173.0</td>\n",
       "      <td>55.0</td>\n",
       "    </tr>\n",
       "    <tr>\n",
       "      <th>4913</th>\n",
       "      <td>Sexify</td>\n",
       "      <td>2021</td>\n",
       "      <td>Comedy, Drama</td>\n",
       "      <td>6.9</td>\n",
       "      <td>Piotr Domalewski     , Aleksandra Skraba, Mar...</td>\n",
       "      <td>138.0</td>\n",
       "      <td>50.0</td>\n",
       "    </tr>\n",
       "  </tbody>\n",
       "</table>\n",
       "<p>4914 rows × 7 columns</p>\n",
       "</div>"
      ],
      "text/plain": [
       "                                                 MOVIES  YEAR  \\\n",
       "0                                         Blood Red Sky  2021   \n",
       "1                   Masters of the Universe: Revelation  2021   \n",
       "2                                      The Walking Dead  2010   \n",
       "3                                        Rick and Morty  2013   \n",
       "4                                           Outer Banks  2020   \n",
       "...                                                 ...   ...   \n",
       "4909                                              Katla  2021   \n",
       "4910   This Is a Robbery: The World's Biggest Art Heist  2021   \n",
       "4911                                      Modern Family  2009   \n",
       "4912                                     Master of None  2015   \n",
       "4913                                             Sexify  2021   \n",
       "\n",
       "                             GENRE  RATING  \\\n",
       "0         Action, Horror, Thriller     6.1   \n",
       "1     Animation, Action, Adventure     5.0   \n",
       "2          Drama, Horror, Thriller     8.2   \n",
       "3     Animation, Adventure, Comedy     9.2   \n",
       "4             Action, Crime, Drama     7.6   \n",
       "...                            ...     ...   \n",
       "4909        Drama, Mystery, Sci-Fi     7.5   \n",
       "4910   Documentary, Crime, History     7.3   \n",
       "4911        Comedy, Drama, Romance     8.2   \n",
       "4912                 Comedy, Drama     5.8   \n",
       "4913                 Comedy, Drama     6.9   \n",
       "\n",
       "                                                  STARS     VOTES  RunTime  \n",
       "0      Peter Thorwarth     , Peri Baumeister, Carl A...   21062.0    121.0  \n",
       "1      Chris Wood, Sarah Michelle Gellar, Lena Heade...   17870.0     25.0  \n",
       "2      Andrew Lincoln, Norman Reedus, Melissa McBrid...  885805.0     44.0  \n",
       "3      Justin Roiland, Chris Parnell, Spencer Gramme...  414849.0     23.0  \n",
       "4      Chase Stokes, Madelyn Cline, Madison Bailey, ...   25858.0     50.0  \n",
       "...                                                 ...       ...      ...  \n",
       "4909   Baltasar Kormákur     , Guðrún Ýr Eyfjörð, Ír...     453.0     51.0  \n",
       "4910   Colin Barnicle     , Nancy Clougherty, Justin...     175.0     53.0  \n",
       "4911   Jason Winer     , Ed O'Neill, Sofía Vergara, ...    3404.0     23.0  \n",
       "4912   Aziz Ansari     , Naomi Ackie, Lena Waithe, A...    1173.0     55.0  \n",
       "4913   Piotr Domalewski     , Aleksandra Skraba, Mar...     138.0     50.0  \n",
       "\n",
       "[4914 rows x 7 columns]"
      ]
     },
     "execution_count": 47,
     "metadata": {},
     "output_type": "execute_result"
    }
   ],
   "source": [
    "df.reset_index(drop=True, inplace=True)\n",
    "df"
   ]
  },
  {
   "cell_type": "markdown",
   "metadata": {},
   "source": [
    "Questions\n"
   ]
  },
  {
   "cell_type": "markdown",
   "metadata": {},
   "source": [
    "1. What is the average rating of movies in the dataset?"
   ]
  },
  {
   "cell_type": "code",
   "execution_count": 48,
   "metadata": {},
   "outputs": [
    {
     "data": {
      "text/plain": [
       "6.633964183964185"
      ]
     },
     "execution_count": 48,
     "metadata": {},
     "output_type": "execute_result"
    }
   ],
   "source": [
    "df['RATING'].mean()"
   ]
  },
  {
   "cell_type": "markdown",
   "metadata": {},
   "source": [
    "2. How many unique genres are their?"
   ]
  },
  {
   "cell_type": "code",
   "execution_count": 49,
   "metadata": {},
   "outputs": [
    {
     "name": "stdout",
     "output_type": "stream",
     "text": [
      "27\n"
     ]
    }
   ],
   "source": [
    "df_genre = df['GENRE'].str.split(', ').explode()\n",
    "genre_counts = df_genre.value_counts()\n",
    "\n",
    "print(df_genre.nunique())\n",
    "\n"
   ]
  },
  {
   "cell_type": "markdown",
   "metadata": {},
   "source": [
    "3. Which movie received the highest rating?"
   ]
  },
  {
   "cell_type": "code",
   "execution_count": 50,
   "metadata": {},
   "outputs": [
    {
     "data": {
      "text/html": [
       "<div>\n",
       "<style scoped>\n",
       "    .dataframe tbody tr th:only-of-type {\n",
       "        vertical-align: middle;\n",
       "    }\n",
       "\n",
       "    .dataframe tbody tr th {\n",
       "        vertical-align: top;\n",
       "    }\n",
       "\n",
       "    .dataframe thead th {\n",
       "        text-align: right;\n",
       "    }\n",
       "</style>\n",
       "<table border=\"1\" class=\"dataframe\">\n",
       "  <thead>\n",
       "    <tr style=\"text-align: right;\">\n",
       "      <th></th>\n",
       "      <th>YEAR</th>\n",
       "      <th>RATING</th>\n",
       "      <th>VOTES</th>\n",
       "      <th>RunTime</th>\n",
       "    </tr>\n",
       "  </thead>\n",
       "  <tbody>\n",
       "    <tr>\n",
       "      <th>count</th>\n",
       "      <td>4914.0</td>\n",
       "      <td>4914.000000</td>\n",
       "      <td>4.914000e+03</td>\n",
       "      <td>4914.000000</td>\n",
       "    </tr>\n",
       "    <tr>\n",
       "      <th>mean</th>\n",
       "      <td>2014.879121</td>\n",
       "      <td>6.633964</td>\n",
       "      <td>2.283528e+04</td>\n",
       "      <td>78.266178</td>\n",
       "    </tr>\n",
       "    <tr>\n",
       "      <th>std</th>\n",
       "      <td>8.855607</td>\n",
       "      <td>1.216936</td>\n",
       "      <td>8.685241e+04</td>\n",
       "      <td>50.063208</td>\n",
       "    </tr>\n",
       "    <tr>\n",
       "      <th>min</th>\n",
       "      <td>1932.0</td>\n",
       "      <td>1.100000</td>\n",
       "      <td>5.000000e+00</td>\n",
       "      <td>1.000000</td>\n",
       "    </tr>\n",
       "    <tr>\n",
       "      <th>25%</th>\n",
       "      <td>2014.0</td>\n",
       "      <td>5.900000</td>\n",
       "      <td>4.912500e+02</td>\n",
       "      <td>45.000000</td>\n",
       "    </tr>\n",
       "    <tr>\n",
       "      <th>50%</th>\n",
       "      <td>2017.0</td>\n",
       "      <td>6.800000</td>\n",
       "      <td>1.843500e+03</td>\n",
       "      <td>80.000000</td>\n",
       "    </tr>\n",
       "    <tr>\n",
       "      <th>75%</th>\n",
       "      <td>2019.0</td>\n",
       "      <td>7.500000</td>\n",
       "      <td>8.102750e+03</td>\n",
       "      <td>100.000000</td>\n",
       "    </tr>\n",
       "    <tr>\n",
       "      <th>max</th>\n",
       "      <td>2021.0</td>\n",
       "      <td>9.400000</td>\n",
       "      <td>1.713028e+06</td>\n",
       "      <td>853.000000</td>\n",
       "    </tr>\n",
       "  </tbody>\n",
       "</table>\n",
       "</div>"
      ],
      "text/plain": [
       "              YEAR       RATING         VOTES      RunTime\n",
       "count       4914.0  4914.000000  4.914000e+03  4914.000000\n",
       "mean   2014.879121     6.633964  2.283528e+04    78.266178\n",
       "std       8.855607     1.216936  8.685241e+04    50.063208\n",
       "min         1932.0     1.100000  5.000000e+00     1.000000\n",
       "25%         2014.0     5.900000  4.912500e+02    45.000000\n",
       "50%         2017.0     6.800000  1.843500e+03    80.000000\n",
       "75%         2019.0     7.500000  8.102750e+03   100.000000\n",
       "max         2021.0     9.400000  1.713028e+06   853.000000"
      ]
     },
     "execution_count": 50,
     "metadata": {},
     "output_type": "execute_result"
    }
   ],
   "source": [
    "df.describe()"
   ]
  },
  {
   "cell_type": "code",
   "execution_count": 51,
   "metadata": {},
   "outputs": [
    {
     "name": "stdout",
     "output_type": "stream",
     "text": [
      "MOVIES                                          Breaking Bad\n",
      "YEAR                                                    2008\n",
      "GENRE                                 Crime, Drama, Thriller\n",
      "RATING                                                   9.4\n",
      "STARS       Bryan Cranston, Aaron Paul, Anna Gunn, Betsy ...\n",
      "VOTES                                              1552311.0\n",
      "RunTime                                                 49.0\n",
      "Name: 14, dtype: object\n"
     ]
    }
   ],
   "source": [
    "max_rating_index = df['RATING'].idxmax()\n",
    "row_with_max_rating = df.loc[max_rating_index]\n",
    "print(row_with_max_rating)"
   ]
  },
  {
   "cell_type": "markdown",
   "metadata": {},
   "source": [
    "4. What is the Most common genre"
   ]
  },
  {
   "cell_type": "code",
   "execution_count": 52,
   "metadata": {},
   "outputs": [
    {
     "name": "stdout",
     "output_type": "stream",
     "text": [
      "GENRE\n",
      "Drama          2059\n",
      "Comedy         1640\n",
      "Action          897\n",
      "Documentary     794\n",
      "Crime           751\n",
      "Animation       647\n",
      "Adventure       608\n",
      "Romance         532\n",
      "Thriller        472\n",
      "Mystery         349\n",
      "Horror          316\n",
      "Fantasy         276\n",
      "Family          244\n",
      "Biography       221\n",
      "History         179\n",
      "Sci-Fi          154\n",
      "Short           135\n",
      "Music           130\n",
      "Reality-TV      104\n",
      "Sport            97\n",
      "War              42\n",
      "Musical          32\n",
      "Game-Show        25\n",
      "Western          19\n",
      "News             16\n",
      "Talk-Show        15\n",
      "Film-Noir        12\n",
      "Name: count, dtype: int64\n"
     ]
    }
   ],
   "source": [
    "print(genre_counts)"
   ]
  },
  {
   "cell_type": "markdown",
   "metadata": {},
   "source": [
    "5. Which genre has the highest average rating?"
   ]
  },
  {
   "cell_type": "code",
   "execution_count": 53,
   "metadata": {},
   "outputs": [
    {
     "name": "stdout",
     "output_type": "stream",
     "text": [
      "Genre with the highest average rating: Short\n",
      "Average rating: 8.866666666666667\n"
     ]
    }
   ],
   "source": [
    "avg_rating = df.groupby('GENRE')['RATING'].mean()\n",
    "\n",
    "highest_avg_rating_genre = avg_rating.idxmax()\n",
    "highest_avg_rating_value = avg_rating.max()\n",
    "print(\"Genre with the highest average rating:\", highest_avg_rating_genre)\n",
    "print(\"Average rating:\", highest_avg_rating_value)\n"
   ]
  },
  {
   "cell_type": "markdown",
   "metadata": {},
   "source": [
    "6. Which movie received the highest number of votes?"
   ]
  },
  {
   "cell_type": "code",
   "execution_count": 54,
   "metadata": {},
   "outputs": [
    {
     "name": "stdout",
     "output_type": "stream",
     "text": [
      "MOVIES     The Lord of the Rings: The Fellowship of the Ring\n",
      "YEAR                                                    2001\n",
      "GENRE                               Action, Adventure, Drama\n",
      "RATING                                                   8.8\n",
      "STARS       Peter Jackson     , Elijah Wood, Ian McKellen...\n",
      "VOTES                                              1713028.0\n",
      "RunTime                                                178.0\n",
      "Name: 103, dtype: object\n"
     ]
    }
   ],
   "source": [
    "max_votes_index = df['VOTES'].idxmax()\n",
    "\n",
    "movie_with_max_votes = df.loc[max_votes_index]\n",
    "\n",
    "print(movie_with_max_votes)"
   ]
  },
  {
   "cell_type": "markdown",
   "metadata": {},
   "source": [
    "7. what is the movie with the lowest run time?\n"
   ]
  },
  {
   "cell_type": "code",
   "execution_count": 55,
   "metadata": {},
   "outputs": [
    {
     "name": "stdout",
     "output_type": "stream",
     "text": [
      "MOVIES                   Masters of the Universe: Revelation\n",
      "YEAR                                                    2021\n",
      "GENRE                           Animation, Action, Adventure\n",
      "RATING                                                   5.0\n",
      "STARS       Chris Wood, Sarah Michelle Gellar, Lena Heade...\n",
      "VOTES                                                17870.0\n",
      "RunTime                                                 25.0\n",
      "Name: 1, dtype: object\n"
     ]
    }
   ],
   "source": [
    "min_run_time = df['RunTime'].min()\n",
    "movie_with_min_time = df.loc[min_run_time]\n",
    "print(movie_with_min_time)"
   ]
  },
  {
   "cell_type": "markdown",
   "metadata": {},
   "source": [
    "8. How many movies have a rating above 8.0?"
   ]
  },
  {
   "cell_type": "code",
   "execution_count": 56,
   "metadata": {},
   "outputs": [
    {
     "data": {
      "text/plain": [
       "MOVIES     550\n",
       "YEAR       550\n",
       "GENRE      550\n",
       "RATING     550\n",
       "STARS      550\n",
       "VOTES      550\n",
       "RunTime    550\n",
       "dtype: int64"
      ]
     },
     "execution_count": 56,
     "metadata": {},
     "output_type": "execute_result"
    }
   ],
   "source": [
    "df[df['RATING'] > 8.0].count()\n"
   ]
  },
  {
   "cell_type": "markdown",
   "metadata": {},
   "source": [
    "9. What is the Max runtime of the movies in the dataset?"
   ]
  },
  {
   "cell_type": "code",
   "execution_count": 57,
   "metadata": {},
   "outputs": [
    {
     "data": {
      "text/plain": [
       "853.0"
      ]
     },
     "execution_count": 57,
     "metadata": {},
     "output_type": "execute_result"
    }
   ],
   "source": [
    "df['RunTime'].max()\n"
   ]
  },
  {
   "cell_type": "markdown",
   "metadata": {},
   "source": [
    "10. What is the average runtime of movies in the dataset?"
   ]
  },
  {
   "cell_type": "code",
   "execution_count": 58,
   "metadata": {},
   "outputs": [
    {
     "data": {
      "text/plain": [
       "78.26617826617827"
      ]
     },
     "execution_count": 58,
     "metadata": {},
     "output_type": "execute_result"
    }
   ],
   "source": [
    "df['RunTime'].mean()"
   ]
  },
  {
   "cell_type": "markdown",
   "metadata": {},
   "source": [
    "11. Which actor or actress appeared in the most highly-rated movie?"
   ]
  },
  {
   "cell_type": "code",
   "execution_count": 59,
   "metadata": {},
   "outputs": [
    {
     "name": "stdout",
     "output_type": "stream",
     "text": [
      " Bryan Cranston, Aaron Paul, Anna Gunn, Betsy Brandt\n"
     ]
    }
   ],
   "source": [
    "highly_rated_movies = df['RATING'].idxmax()\n",
    "cast = df.loc[highly_rated_movies, 'STARS']\n",
    "print(cast)"
   ]
  },
  {
   "cell_type": "markdown",
   "metadata": {},
   "source": [
    "12. How many movies received exactly 5.0 rating?"
   ]
  },
  {
   "cell_type": "code",
   "execution_count": 60,
   "metadata": {},
   "outputs": [
    {
     "data": {
      "text/plain": [
       "MOVIES     47\n",
       "YEAR       47\n",
       "GENRE      47\n",
       "RATING     47\n",
       "STARS      47\n",
       "VOTES      47\n",
       "RunTime    47\n",
       "dtype: int64"
      ]
     },
     "execution_count": 60,
     "metadata": {},
     "output_type": "execute_result"
    }
   ],
   "source": [
    "df[df['RATING'] == 5.0].count()"
   ]
  },
  {
   "cell_type": "markdown",
   "metadata": {},
   "source": [
    "13. What is the distribution of ratings in the dataset?"
   ]
  },
  {
   "cell_type": "code",
   "execution_count": 61,
   "metadata": {},
   "outputs": [
    {
     "data": {
      "image/png": "[encoded data removed]",
      "text/plain": [
       "<Figure size 640x480 with 1 Axes>"
      ]
     },
     "metadata": {},
     "output_type": "display_data"
    }
   ],
   "source": [
    "# Distribution of ratings\n",
    "sns.histplot(data=df, x='RATING', bins=20, kde=True)\n",
    "plt.title('Distribution of Ratings')\n",
    "plt.xlabel('Rating')\n",
    "plt.ylabel('Frequency')\n",
    "plt.show()\n"
   ]
  },
  {
   "cell_type": "markdown",
   "metadata": {},
   "source": [
    "14. What is the trend of Movie ratings overs the years?"
   ]
  },
  {
   "cell_type": "code",
   "execution_count": 62,
   "metadata": {},
   "outputs": [
    {
     "data": {
      "image/png": "[encoded data removed]",
      "text/plain": [
       "<Figure size 640x480 with 1 Axes>"
      ]
     },
     "metadata": {},
     "output_type": "display_data"
    }
   ],
   "source": [
    "sns.lineplot(data=df, x='YEAR', y='RATING')\n",
    "plt.title('Trend of Movie Ratings Over the Years')\n",
    "plt.xlabel('Year')\n",
    "plt.ylabel('Rating')\n",
    "plt.show()"
   ]
  },
  {
   "cell_type": "markdown",
   "metadata": {},
   "source": [
    "15. How does the number of votes vary over the years?"
   ]
  },
  {
   "cell_type": "code",
   "execution_count": 63,
   "metadata": {},
   "outputs": [
    {
     "data": {
      "image/png": "[encoded data removed]",
      "text/plain": [
       "<Figure size 640x480 with 1 Axes>"
      ]
     },
     "metadata": {},
     "output_type": "display_data"
    }
   ],
   "source": [
    "\n",
    "sns.lineplot(data=df, x='YEAR', y='VOTES', estimator='sum')\n",
    "plt.title('Total Number of Votes Over the Years')\n",
    "plt.xlabel('Year')\n",
    "plt.ylabel('Total Number of Votes')\n",
    "plt.show()\n"
   ]
  },
  {
   "cell_type": "markdown",
   "metadata": {},
   "source": [
    "16. what is the distribution of ratings over the years?"
   ]
  },
  {
   "cell_type": "code",
   "execution_count": 64,
   "metadata": {},
   "outputs": [
    {
     "data": {
      "image/png": "[encoded data removed]",
      "text/plain": [
       "<Figure size 640x480 with 1 Axes>"
      ]
     },
     "metadata": {},
     "output_type": "display_data"
    }
   ],
   "source": [
    "sns.histplot(df['RATING'], kde=True)\n",
    "plt.title('Distribution of Ratings')\n",
    "plt.xlabel('Rating')\n",
    "plt.ylabel('Count')\n",
    "plt.show()"
   ]
  }
 ],
 "metadata": {
  "kernelspec": {
   "display_name": "Python 3",
   "language": "python",
   "name": "python3"
  },
  "language_info": {
   "codemirror_mode": {
    "name": "ipython",
    "version": 3
   },
   "file_extension": ".py",
   "mimetype": "text/x-python",
   "name": "python",
   "nbconvert_exporter": "python",
   "pygments_lexer": "ipython3",
   "version": "3.12.0"
  }
 },
 "nbformat": 4,
 "nbformat_minor": 2
}
